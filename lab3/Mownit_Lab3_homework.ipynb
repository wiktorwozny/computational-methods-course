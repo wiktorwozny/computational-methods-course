{
 "cells": [
  {
   "cell_type": "code",
   "execution_count": 18,
   "id": "df7a3c8d",
   "metadata": {},
   "outputs": [
    {
     "data": {
      "text/html": [
       "<table>\n",
       "<thead><tr><th scope=col>Size</th><th scope=col>Type</th><th scope=col>time</th></tr></thead>\n",
       "<tbody>\n",
       "\t<tr><td>1000     </td><td>mxv      </td><td>0.0004943</td></tr>\n",
       "\t<tr><td>1000     </td><td>mxv      </td><td>0.0004291</td></tr>\n",
       "\t<tr><td>1000     </td><td>mxv      </td><td>0.0004202</td></tr>\n",
       "\t<tr><td>1000     </td><td>mxv      </td><td>0.0004312</td></tr>\n",
       "\t<tr><td>1000     </td><td>mxv      </td><td>0.0004516</td></tr>\n",
       "\t<tr><td>1000     </td><td>mxv      </td><td>0.0004642</td></tr>\n",
       "</tbody>\n",
       "</table>\n"
      ],
      "text/latex": [
       "\\begin{tabular}{r|lll}\n",
       " Size & Type & time\\\\\n",
       "\\hline\n",
       "\t 1000      & mxv       & 0.0004943\\\\\n",
       "\t 1000      & mxv       & 0.0004291\\\\\n",
       "\t 1000      & mxv       & 0.0004202\\\\\n",
       "\t 1000      & mxv       & 0.0004312\\\\\n",
       "\t 1000      & mxv       & 0.0004516\\\\\n",
       "\t 1000      & mxv       & 0.0004642\\\\\n",
       "\\end{tabular}\n"
      ],
      "text/markdown": [
       "\n",
       "| Size | Type | time |\n",
       "|---|---|---|\n",
       "| 1000      | mxv       | 0.0004943 |\n",
       "| 1000      | mxv       | 0.0004291 |\n",
       "| 1000      | mxv       | 0.0004202 |\n",
       "| 1000      | mxv       | 0.0004312 |\n",
       "| 1000      | mxv       | 0.0004516 |\n",
       "| 1000      | mxv       | 0.0004642 |\n",
       "\n"
      ],
      "text/plain": [
       "  Size Type time     \n",
       "1 1000 mxv  0.0004943\n",
       "2 1000 mxv  0.0004291\n",
       "3 1000 mxv  0.0004202\n",
       "4 1000 mxv  0.0004312\n",
       "5 1000 mxv  0.0004516\n",
       "6 1000 mxv  0.0004642"
      ]
     },
     "metadata": {},
     "output_type": "display_data"
    }
   ],
   "source": [
    "df <- read.csv(\"results2.csv\")\n",
    "head(df)"
   ]
  },
  {
   "cell_type": "code",
   "execution_count": 19,
   "id": "4fd2b296",
   "metadata": {},
   "outputs": [
    {
     "data": {
      "text/html": [
       "<table>\n",
       "<thead><tr><th scope=col>Size</th><th scope=col>Type</th><th scope=col>time</th></tr></thead>\n",
       "<tbody>\n",
       "\t<tr><td>   1000   </td><td>mxv       </td><td>0.00045182</td></tr>\n",
       "\t<tr><td>   2000   </td><td>mxv       </td><td>0.00134639</td></tr>\n",
       "\t<tr><td>   3000   </td><td>mxv       </td><td>0.00289987</td></tr>\n",
       "\t<tr><td>   4000   </td><td>mxv       </td><td>0.00439545</td></tr>\n",
       "\t<tr><td>   5000   </td><td>mxv       </td><td>0.00667653</td></tr>\n",
       "\t<tr><td>   6000   </td><td>mxv       </td><td>0.00945494</td></tr>\n",
       "\t<tr><td>   7000   </td><td>mxv       </td><td>0.01438851</td></tr>\n",
       "\t<tr><td>   8000   </td><td>mxv       </td><td>0.01662840</td></tr>\n",
       "\t<tr><td>   9000   </td><td>mxv       </td><td>0.02277238</td></tr>\n",
       "\t<tr><td>  10000   </td><td>mxv       </td><td>0.02820255</td></tr>\n",
       "\t<tr><td> 100000   </td><td>vxv       </td><td>0.00019879</td></tr>\n",
       "\t<tr><td> 200000   </td><td>vxv       </td><td>0.00021369</td></tr>\n",
       "\t<tr><td> 300000   </td><td>vxv       </td><td>0.00028126</td></tr>\n",
       "\t<tr><td> 400000   </td><td>vxv       </td><td>0.00033058</td></tr>\n",
       "\t<tr><td> 500000   </td><td>vxv       </td><td>0.00040819</td></tr>\n",
       "\t<tr><td> 600000   </td><td>vxv       </td><td>0.00045550</td></tr>\n",
       "\t<tr><td> 700000   </td><td>vxv       </td><td>0.00046142</td></tr>\n",
       "\t<tr><td> 800000   </td><td>vxv       </td><td>0.00056928</td></tr>\n",
       "\t<tr><td> 900000   </td><td>vxv       </td><td>0.00060710</td></tr>\n",
       "\t<tr><td>1000000   </td><td>vxv       </td><td>0.00062015</td></tr>\n",
       "</tbody>\n",
       "</table>\n"
      ],
      "text/latex": [
       "\\begin{tabular}{r|lll}\n",
       " Size & Type & time\\\\\n",
       "\\hline\n",
       "\t    1000    & mxv        & 0.00045182\\\\\n",
       "\t    2000    & mxv        & 0.00134639\\\\\n",
       "\t    3000    & mxv        & 0.00289987\\\\\n",
       "\t    4000    & mxv        & 0.00439545\\\\\n",
       "\t    5000    & mxv        & 0.00667653\\\\\n",
       "\t    6000    & mxv        & 0.00945494\\\\\n",
       "\t    7000    & mxv        & 0.01438851\\\\\n",
       "\t    8000    & mxv        & 0.01662840\\\\\n",
       "\t    9000    & mxv        & 0.02277238\\\\\n",
       "\t   10000    & mxv        & 0.02820255\\\\\n",
       "\t  100000    & vxv        & 0.00019879\\\\\n",
       "\t  200000    & vxv        & 0.00021369\\\\\n",
       "\t  300000    & vxv        & 0.00028126\\\\\n",
       "\t  400000    & vxv        & 0.00033058\\\\\n",
       "\t  500000    & vxv        & 0.00040819\\\\\n",
       "\t  600000    & vxv        & 0.00045550\\\\\n",
       "\t  700000    & vxv        & 0.00046142\\\\\n",
       "\t  800000    & vxv        & 0.00056928\\\\\n",
       "\t  900000    & vxv        & 0.00060710\\\\\n",
       "\t 1000000    & vxv        & 0.00062015\\\\\n",
       "\\end{tabular}\n"
      ],
      "text/markdown": [
       "\n",
       "| Size | Type | time |\n",
       "|---|---|---|\n",
       "|    1000    | mxv        | 0.00045182 |\n",
       "|    2000    | mxv        | 0.00134639 |\n",
       "|    3000    | mxv        | 0.00289987 |\n",
       "|    4000    | mxv        | 0.00439545 |\n",
       "|    5000    | mxv        | 0.00667653 |\n",
       "|    6000    | mxv        | 0.00945494 |\n",
       "|    7000    | mxv        | 0.01438851 |\n",
       "|    8000    | mxv        | 0.01662840 |\n",
       "|    9000    | mxv        | 0.02277238 |\n",
       "|   10000    | mxv        | 0.02820255 |\n",
       "|  100000    | vxv        | 0.00019879 |\n",
       "|  200000    | vxv        | 0.00021369 |\n",
       "|  300000    | vxv        | 0.00028126 |\n",
       "|  400000    | vxv        | 0.00033058 |\n",
       "|  500000    | vxv        | 0.00040819 |\n",
       "|  600000    | vxv        | 0.00045550 |\n",
       "|  700000    | vxv        | 0.00046142 |\n",
       "|  800000    | vxv        | 0.00056928 |\n",
       "|  900000    | vxv        | 0.00060710 |\n",
       "| 1000000    | vxv        | 0.00062015 |\n",
       "\n"
      ],
      "text/plain": [
       "   Size    Type time      \n",
       "1     1000 mxv  0.00045182\n",
       "2     2000 mxv  0.00134639\n",
       "3     3000 mxv  0.00289987\n",
       "4     4000 mxv  0.00439545\n",
       "5     5000 mxv  0.00667653\n",
       "6     6000 mxv  0.00945494\n",
       "7     7000 mxv  0.01438851\n",
       "8     8000 mxv  0.01662840\n",
       "9     9000 mxv  0.02277238\n",
       "10   10000 mxv  0.02820255\n",
       "11  100000 vxv  0.00019879\n",
       "12  200000 vxv  0.00021369\n",
       "13  300000 vxv  0.00028126\n",
       "14  400000 vxv  0.00033058\n",
       "15  500000 vxv  0.00040819\n",
       "16  600000 vxv  0.00045550\n",
       "17  700000 vxv  0.00046142\n",
       "18  800000 vxv  0.00056928\n",
       "19  900000 vxv  0.00060710\n",
       "20 1000000 vxv  0.00062015"
      ]
     },
     "metadata": {},
     "output_type": "display_data"
    }
   ],
   "source": [
    "avg_results <- aggregate(time ~ Size:Type, data=df, FUN=mean)\n",
    "\n",
    "avg_results"
   ]
  },
  {
   "cell_type": "code",
   "execution_count": 20,
   "id": "93106da0",
   "metadata": {},
   "outputs": [
    {
     "data": {
      "text/html": [
       "<table>\n",
       "<thead><tr><th scope=col>Size</th><th scope=col>Type</th><th scope=col>time</th><th scope=col>sd</th></tr></thead>\n",
       "<tbody>\n",
       "\t<tr><td>   1000     </td><td>mxv         </td><td>0.00045182  </td><td>2.135602e-05</td></tr>\n",
       "\t<tr><td>   2000     </td><td>mxv         </td><td>0.00134639  </td><td>3.975919e-04</td></tr>\n",
       "\t<tr><td>   3000     </td><td>mxv         </td><td>0.00289987  </td><td>5.752322e-04</td></tr>\n",
       "\t<tr><td>   4000     </td><td>mxv         </td><td>0.00439545  </td><td>3.120163e-04</td></tr>\n",
       "\t<tr><td>   5000     </td><td>mxv         </td><td>0.00667653  </td><td>4.122063e-04</td></tr>\n",
       "\t<tr><td>   6000     </td><td>mxv         </td><td>0.00945494  </td><td>3.895668e-04</td></tr>\n",
       "\t<tr><td>   7000     </td><td>mxv         </td><td>0.01438851  </td><td>1.492770e-03</td></tr>\n",
       "\t<tr><td>   8000     </td><td>mxv         </td><td>0.01662840  </td><td>8.293444e-04</td></tr>\n",
       "\t<tr><td>   9000     </td><td>mxv         </td><td>0.02277238  </td><td>1.069232e-03</td></tr>\n",
       "\t<tr><td>  10000     </td><td>mxv         </td><td>0.02820255  </td><td>1.783006e-03</td></tr>\n",
       "\t<tr><td> 100000     </td><td>vxv         </td><td>0.00019879  </td><td>5.161114e-05</td></tr>\n",
       "\t<tr><td> 200000     </td><td>vxv         </td><td>0.00021369  </td><td>1.722198e-05</td></tr>\n",
       "\t<tr><td> 300000     </td><td>vxv         </td><td>0.00028126  </td><td>2.788405e-05</td></tr>\n",
       "\t<tr><td> 400000     </td><td>vxv         </td><td>0.00033058  </td><td>1.577993e-05</td></tr>\n",
       "\t<tr><td> 500000     </td><td>vxv         </td><td>0.00040819  </td><td>3.212401e-05</td></tr>\n",
       "\t<tr><td> 600000     </td><td>vxv         </td><td>0.00045550  </td><td>2.339326e-05</td></tr>\n",
       "\t<tr><td> 700000     </td><td>vxv         </td><td>0.00046142  </td><td>5.507580e-05</td></tr>\n",
       "\t<tr><td> 800000     </td><td>vxv         </td><td>0.00056928  </td><td>1.628290e-05</td></tr>\n",
       "\t<tr><td> 900000     </td><td>vxv         </td><td>0.00060710  </td><td>1.982910e-05</td></tr>\n",
       "\t<tr><td>1000000     </td><td>vxv         </td><td>0.00062015  </td><td>2.271061e-05</td></tr>\n",
       "</tbody>\n",
       "</table>\n"
      ],
      "text/latex": [
       "\\begin{tabular}{r|llll}\n",
       " Size & Type & time & sd\\\\\n",
       "\\hline\n",
       "\t    1000      & mxv          & 0.00045182   & 2.135602e-05\\\\\n",
       "\t    2000      & mxv          & 0.00134639   & 3.975919e-04\\\\\n",
       "\t    3000      & mxv          & 0.00289987   & 5.752322e-04\\\\\n",
       "\t    4000      & mxv          & 0.00439545   & 3.120163e-04\\\\\n",
       "\t    5000      & mxv          & 0.00667653   & 4.122063e-04\\\\\n",
       "\t    6000      & mxv          & 0.00945494   & 3.895668e-04\\\\\n",
       "\t    7000      & mxv          & 0.01438851   & 1.492770e-03\\\\\n",
       "\t    8000      & mxv          & 0.01662840   & 8.293444e-04\\\\\n",
       "\t    9000      & mxv          & 0.02277238   & 1.069232e-03\\\\\n",
       "\t   10000      & mxv          & 0.02820255   & 1.783006e-03\\\\\n",
       "\t  100000      & vxv          & 0.00019879   & 5.161114e-05\\\\\n",
       "\t  200000      & vxv          & 0.00021369   & 1.722198e-05\\\\\n",
       "\t  300000      & vxv          & 0.00028126   & 2.788405e-05\\\\\n",
       "\t  400000      & vxv          & 0.00033058   & 1.577993e-05\\\\\n",
       "\t  500000      & vxv          & 0.00040819   & 3.212401e-05\\\\\n",
       "\t  600000      & vxv          & 0.00045550   & 2.339326e-05\\\\\n",
       "\t  700000      & vxv          & 0.00046142   & 5.507580e-05\\\\\n",
       "\t  800000      & vxv          & 0.00056928   & 1.628290e-05\\\\\n",
       "\t  900000      & vxv          & 0.00060710   & 1.982910e-05\\\\\n",
       "\t 1000000      & vxv          & 0.00062015   & 2.271061e-05\\\\\n",
       "\\end{tabular}\n"
      ],
      "text/markdown": [
       "\n",
       "| Size | Type | time | sd |\n",
       "|---|---|---|---|\n",
       "|    1000      | mxv          | 0.00045182   | 2.135602e-05 |\n",
       "|    2000      | mxv          | 0.00134639   | 3.975919e-04 |\n",
       "|    3000      | mxv          | 0.00289987   | 5.752322e-04 |\n",
       "|    4000      | mxv          | 0.00439545   | 3.120163e-04 |\n",
       "|    5000      | mxv          | 0.00667653   | 4.122063e-04 |\n",
       "|    6000      | mxv          | 0.00945494   | 3.895668e-04 |\n",
       "|    7000      | mxv          | 0.01438851   | 1.492770e-03 |\n",
       "|    8000      | mxv          | 0.01662840   | 8.293444e-04 |\n",
       "|    9000      | mxv          | 0.02277238   | 1.069232e-03 |\n",
       "|   10000      | mxv          | 0.02820255   | 1.783006e-03 |\n",
       "|  100000      | vxv          | 0.00019879   | 5.161114e-05 |\n",
       "|  200000      | vxv          | 0.00021369   | 1.722198e-05 |\n",
       "|  300000      | vxv          | 0.00028126   | 2.788405e-05 |\n",
       "|  400000      | vxv          | 0.00033058   | 1.577993e-05 |\n",
       "|  500000      | vxv          | 0.00040819   | 3.212401e-05 |\n",
       "|  600000      | vxv          | 0.00045550   | 2.339326e-05 |\n",
       "|  700000      | vxv          | 0.00046142   | 5.507580e-05 |\n",
       "|  800000      | vxv          | 0.00056928   | 1.628290e-05 |\n",
       "|  900000      | vxv          | 0.00060710   | 1.982910e-05 |\n",
       "| 1000000      | vxv          | 0.00062015   | 2.271061e-05 |\n",
       "\n"
      ],
      "text/plain": [
       "   Size    Type time       sd          \n",
       "1     1000 mxv  0.00045182 2.135602e-05\n",
       "2     2000 mxv  0.00134639 3.975919e-04\n",
       "3     3000 mxv  0.00289987 5.752322e-04\n",
       "4     4000 mxv  0.00439545 3.120163e-04\n",
       "5     5000 mxv  0.00667653 4.122063e-04\n",
       "6     6000 mxv  0.00945494 3.895668e-04\n",
       "7     7000 mxv  0.01438851 1.492770e-03\n",
       "8     8000 mxv  0.01662840 8.293444e-04\n",
       "9     9000 mxv  0.02277238 1.069232e-03\n",
       "10   10000 mxv  0.02820255 1.783006e-03\n",
       "11  100000 vxv  0.00019879 5.161114e-05\n",
       "12  200000 vxv  0.00021369 1.722198e-05\n",
       "13  300000 vxv  0.00028126 2.788405e-05\n",
       "14  400000 vxv  0.00033058 1.577993e-05\n",
       "15  500000 vxv  0.00040819 3.212401e-05\n",
       "16  600000 vxv  0.00045550 2.339326e-05\n",
       "17  700000 vxv  0.00046142 5.507580e-05\n",
       "18  800000 vxv  0.00056928 1.628290e-05\n",
       "19  900000 vxv  0.00060710 1.982910e-05\n",
       "20 1000000 vxv  0.00062015 2.271061e-05"
      ]
     },
     "metadata": {},
     "output_type": "display_data"
    }
   ],
   "source": [
    "avg_results$sd <- aggregate(time ~ Size:Type, data=df, FUN=sd)$time\n",
    "\n",
    "avg_results"
   ]
  },
  {
   "cell_type": "code",
   "execution_count": 43,
   "id": "fe16aa42",
   "metadata": {},
   "outputs": [
    {
     "data": {
      "image/png": "[encoded data removed]",
      "text/plain": [
       "plot without title"
      ]
     },
     "metadata": {
      "image/png": {
       "height": 420,
       "width": 420
      }
     },
     "output_type": "display_data"
    }
   ],
   "source": [
    "ggplot(avg_results[avg_results$Type==\"mxv\",], aes(Size, time)) + \n",
    "geom_point(color=\"blue\", size=3) + \n",
    "ggtitle(\"Średnie czasy mnożenia macierzy razy wektor\") +\n",
    "geom_errorbar(aes(ymin=time-sd, ymax=time+sd), width=100)"
   ]
  },
  {
   "cell_type": "code",
   "execution_count": 40,
   "id": "377c641c",
   "metadata": {},
   "outputs": [
    {
     "data": {
      "image/png": "[encoded data removed]",
      "text/plain": [
       "plot without title"
      ]
     },
     "metadata": {
      "image/png": {
       "height": 420,
       "width": 420
      }
     },
     "output_type": "display_data"
    }
   ],
   "source": [
    "ggplot(avg_results[avg_results$Type==\"vxv\",], aes(Size, time)) + \n",
    "geom_point(color=\"red\", size=3) + \n",
    "ggtitle(\"Średnie czasy mnożenia wektora razy wektor\") +\n",
    "geom_errorbar(aes(ymin=time-sd, ymax=time+sd), width=10000)"
   ]
  }
 ],
 "metadata": {
  "kernelspec": {
   "display_name": "R",
   "language": "R",
   "name": "ir"
  },
  "language_info": {
   "codemirror_mode": "r",
   "file_extension": ".r",
   "mimetype": "text/x-r-source",
   "name": "R",
   "pygments_lexer": "r",
   "version": "3.6.1"
  }
 },
 "nbformat": 4,
 "nbformat_minor": 5
}
