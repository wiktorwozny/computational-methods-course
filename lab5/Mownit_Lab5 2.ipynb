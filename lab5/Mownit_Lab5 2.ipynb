{
 "cells": [
  {
   "cell_type": "markdown",
   "metadata": {},
   "source": [
    "# MOwNiT \n",
    "## Laboratorium 5"
   ]
  },
  {
   "cell_type": "markdown",
   "metadata": {},
   "source": [
    "### Tablice wielowymiarowe i mnożenie macierzy w Julii"
   ]
  },
  {
   "cell_type": "code",
   "execution_count": 4,
   "metadata": {},
   "outputs": [
    {
     "data": {
      "text/plain": [
       "2×2 Matrix{Float64}:\n",
       " 1.0  4.0\n",
       " 0.0  1.0"
      ]
     },
     "execution_count": 4,
     "metadata": {},
     "output_type": "execute_result"
    }
   ],
   "source": [
    "# tablice wielowymiarowe w Julii\n",
    "Asmall = [[1.0 4.0]; [0.0 1.0]]\n",
    "Bsmall = Asmall\n",
    "# size(Bsmall,1)"
   ]
  },
  {
   "cell_type": "markdown",
   "metadata": {},
   "source": [
    "#### Wersja naiwna"
   ]
  },
  {
   "cell_type": "code",
   "execution_count": 5,
   "metadata": {},
   "outputs": [
    {
     "data": {
      "text/plain": [
       "naive_multiplication (generic function with 1 method)"
      ]
     },
     "execution_count": 5,
     "metadata": {},
     "output_type": "execute_result"
    }
   ],
   "source": [
    "# mnożenie macierzy - wersja naiwna\n",
    "function naive_multiplication(A,B)\n",
    "    C = zeros(Float64, size(A,1), size(B,2))\n",
    "    for i=1:size(A,1)\n",
    "        for j=1:size(B,2)\n",
    "            for k=1:size(A,2)\n",
    "                C[i,j] = C[i,j] + A[i,k]*B[k,j]\n",
    "            end\n",
    "        end\n",
    "    end\n",
    "    C\n",
    "end"
   ]
  },
  {
   "cell_type": "code",
   "execution_count": 6,
   "metadata": {},
   "outputs": [
    {
     "data": {
      "text/plain": [
       "2×2 Matrix{Float64}:\n",
       " 1.0  8.0\n",
       " 0.0  1.0"
      ]
     },
     "execution_count": 6,
     "metadata": {},
     "output_type": "execute_result"
    }
   ],
   "source": [
    "#kompilacja\n",
    "naive_multiplication(Asmall, Bsmall)"
   ]
  },
  {
   "cell_type": "code",
   "execution_count": 7,
   "metadata": {},
   "outputs": [
    {
     "data": {
      "text/plain": [
       "5.636e-6"
      ]
     },
     "execution_count": 7,
     "metadata": {},
     "output_type": "execute_result"
    }
   ],
   "source": [
    "#kompilacja\n",
    "@elapsed naive_multiplication(Asmall, Bsmall)"
   ]
  },
  {
   "cell_type": "markdown",
   "metadata": {},
   "source": [
    "#### Wersja ulepszona"
   ]
  },
  {
   "cell_type": "code",
   "execution_count": 8,
   "metadata": {},
   "outputs": [
    {
     "data": {
      "text/plain": [
       "2×2 Matrix{Int64}:\n",
       " 1  2\n",
       " 3  4"
      ]
     },
     "metadata": {},
     "output_type": "display_data"
    },
    {
     "data": {
      "text/plain": [
       "4-element Vector{Int64}:\n",
       " 1\n",
       " 3\n",
       " 2\n",
       " 4"
      ]
     },
     "execution_count": 8,
     "metadata": {},
     "output_type": "execute_result"
    }
   ],
   "source": [
    "# Należy pamiętać o \"column-major\" dostępie do tablic - \n",
    "# pierwszy indeks zmienia się szybciej\n",
    "# tak jak Matlab, R, Fortran \n",
    "# inaczej niz C, Python\n",
    "A1 = [[1 2]; [3 4]]\n",
    "display(A1)\n",
    "vec(A1)"
   ]
  },
  {
   "cell_type": "code",
   "execution_count": 9,
   "metadata": {},
   "outputs": [
    {
     "data": {
      "text/plain": [
       "better_multiplication (generic function with 1 method)"
      ]
     },
     "execution_count": 9,
     "metadata": {},
     "output_type": "execute_result"
    }
   ],
   "source": [
    "# poprawiona funkcja korzytająca z powyższego oraz z faktu, że\n",
    "# można zmieniać kolejność operacji dodawania (a co za tym idzie kolejnosc petli).\n",
    "function better_multiplication(A, B)\n",
    "    C = zeros(Float64, size(A,1), size(B,2))\n",
    "    for j=1:size(B,2)\n",
    "        for k=1:size(A,2)\n",
    "            for i=1:size(A,1)\n",
    "                C[i,j] = C[i,j] + A[i,k]*B[k,j]\n",
    "            end\n",
    "        end\n",
    "    end\n",
    "    C\n",
    "end"
   ]
  },
  {
   "cell_type": "code",
   "execution_count": 10,
   "metadata": {
    "scrolled": true
   },
   "outputs": [
    {
     "data": {
      "text/plain": [
       "0.0302503"
      ]
     },
     "execution_count": 10,
     "metadata": {},
     "output_type": "execute_result"
    }
   ],
   "source": [
    "@elapsed better_multiplication(Asmall, Bsmall)"
   ]
  },
  {
   "cell_type": "markdown",
   "metadata": {},
   "source": [
    "#### Wersja BLASowa"
   ]
  },
  {
   "cell_type": "code",
   "execution_count": 11,
   "metadata": {},
   "outputs": [
    {
     "data": {
      "text/plain": [
       "2×2 Matrix{Float64}:\n",
       " 1.0  8.0\n",
       " 0.0  1.0"
      ]
     },
     "execution_count": 11,
     "metadata": {},
     "output_type": "execute_result"
    }
   ],
   "source": [
    "#kompilacja funkcji BLASowej do mnożenia macierzy\n",
    "#https://docs.julialang.org/en/stable/stdlib/linalg/#BLAS-Functions-1\n",
    "Asmall*Bsmall"
   ]
  },
  {
   "cell_type": "markdown",
   "metadata": {},
   "source": [
    "#### Porównanie wersji"
   ]
  },
  {
   "cell_type": "code",
   "execution_count": 12,
   "metadata": {},
   "outputs": [],
   "source": [
    "A = rand(1000, 1000);\n",
    "B = rand(1000, 1000);"
   ]
  },
  {
   "cell_type": "code",
   "execution_count": 13,
   "metadata": {
    "scrolled": true
   },
   "outputs": [
    {
     "data": {
      "text/plain": [
       "2.424646731"
      ]
     },
     "execution_count": 13,
     "metadata": {},
     "output_type": "execute_result"
    }
   ],
   "source": [
    "@elapsed naive_multiplication(A, B)"
   ]
  },
  {
   "cell_type": "code",
   "execution_count": 14,
   "metadata": {},
   "outputs": [
    {
     "data": {
      "text/plain": [
       "0.858499923"
      ]
     },
     "execution_count": 14,
     "metadata": {},
     "output_type": "execute_result"
    }
   ],
   "source": [
    "@elapsed better_multiplication(A, B)"
   ]
  },
  {
   "cell_type": "code",
   "execution_count": 16,
   "metadata": {},
   "outputs": [
    {
     "data": {
      "text/plain": [
       "0.427008158"
      ]
     },
     "execution_count": 16,
     "metadata": {},
     "output_type": "execute_result"
    }
   ],
   "source": [
    "@elapsed A*B"
   ]
  },
  {
   "cell_type": "markdown",
   "metadata": {},
   "source": [
    "### Wielomiany i aproksymacja średniokwadratowa"
   ]
  },
  {
   "cell_type": "code",
   "execution_count": 17,
   "metadata": {},
   "outputs": [],
   "source": [
    "# pakiet Polynomials jest mozliwy do instalacji pod Juliabox\n",
    "# https://github.com/JuliaMath/Polynomials.jl\n",
    "# using Pkg\n",
    "# Pkg.add(\"Polynomials\")"
   ]
  },
  {
   "cell_type": "code",
   "execution_count": 21,
   "metadata": {},
   "outputs": [
    {
     "data": {
      "text/html": [
       "# 14 methods for generic function <b>exp</b>:<ul><li> exp(x::<b>Union{Float16, Float32, Float64}</b>) in Base.Math at <a href=\"https://github.com/JuliaLang/julia/tree/36034abf26062acad4af9dcec7c4fc53b260dbb4/base/special/exp.jl#L326\" target=\"_blank\">special/exp.jl:326</a></li> <li> exp(A::<b>StridedMatrix{var\"#s885\"} where var\"#s885\"<:Union{Float32, Float64, ComplexF32, ComplexF64}</b>) in LinearAlgebra at <a href=\"file:///cache/build/default-amdci4-6/julialang/julia-release-1-dot-8/usr/share/julia/stdlib/v1.8/LinearAlgebra/src/dense.jl\" target=\"_blank\">/opt/jupyterhub/kernels/julia-1.8/share/julia/stdlib/v1.8/LinearAlgebra/src/dense.jl:569</a></li> <li> exp(A::<b>StridedMatrix{var\"#s885\"} where var\"#s885\"<:Union{Integer, Complex{<:Integer}}</b>) in LinearAlgebra at <a href=\"file:///cache/build/default-amdci4-6/julialang/julia-release-1-dot-8/usr/share/julia/stdlib/v1.8/LinearAlgebra/src/dense.jl\" target=\"_blank\">/opt/jupyterhub/kernels/julia-1.8/share/julia/stdlib/v1.8/LinearAlgebra/src/dense.jl:570</a></li> <li> exp(A::<b>LinearAlgebra.Transpose{<:Any, <:AbstractMatrix}</b>) in LinearAlgebra at <a href=\"file:///cache/build/default-amdci4-6/julialang/julia-release-1-dot-8/usr/share/julia/stdlib/v1.8/LinearAlgebra/src/dense.jl\" target=\"_blank\">/opt/jupyterhub/kernels/julia-1.8/share/julia/stdlib/v1.8/LinearAlgebra/src/dense.jl:572</a></li> <li> exp(J::<b>LinearAlgebra.UniformScaling</b>) in LinearAlgebra at <a href=\"file:///cache/build/default-amdci4-6/julialang/julia-release-1-dot-8/usr/share/julia/stdlib/v1.8/LinearAlgebra/src/uniformscaling.jl\" target=\"_blank\">/opt/jupyterhub/kernels/julia-1.8/share/julia/stdlib/v1.8/LinearAlgebra/src/uniformscaling.jl:173</a></li> <li> exp(A::<b>LinearAlgebra.Adjoint{<:Any, <:AbstractMatrix}</b>) in LinearAlgebra at <a href=\"file:///cache/build/default-amdci4-6/julialang/julia-release-1-dot-8/usr/share/julia/stdlib/v1.8/LinearAlgebra/src/dense.jl\" target=\"_blank\">/opt/jupyterhub/kernels/julia-1.8/share/julia/stdlib/v1.8/LinearAlgebra/src/dense.jl:571</a></li> <li> exp(D::<b>LinearAlgebra.Diagonal</b>) in LinearAlgebra at <a href=\"file:///cache/build/default-amdci4-6/julialang/julia-release-1-dot-8/usr/share/julia/stdlib/v1.8/LinearAlgebra/src/diagonal.jl\" target=\"_blank\">/opt/jupyterhub/kernels/julia-1.8/share/julia/stdlib/v1.8/LinearAlgebra/src/diagonal.jl:674</a></li> <li> exp(A::<b>LinearAlgebra.Hermitian{var\"#s884\", S} where {var\"#s884\"<:Complex, S<:(AbstractMatrix{<:var\"#s884\"})}</b>) in LinearAlgebra at <a href=\"file:///cache/build/default-amdci4-6/julialang/julia-release-1-dot-8/usr/share/julia/stdlib/v1.8/LinearAlgebra/src/symmetric.jl\" target=\"_blank\">/opt/jupyterhub/kernels/julia-1.8/share/julia/stdlib/v1.8/LinearAlgebra/src/symmetric.jl:731</a></li> <li> exp(A::<b>Union{LinearAlgebra.Hermitian{var\"#s885\", S}, LinearAlgebra.Symmetric{var\"#s885\", S}} where {var\"#s885\"<:Real, S}</b>) in LinearAlgebra at <a href=\"file:///cache/build/default-amdci4-6/julialang/julia-release-1-dot-8/usr/share/julia/stdlib/v1.8/LinearAlgebra/src/symmetric.jl\" target=\"_blank\">/opt/jupyterhub/kernels/julia-1.8/share/julia/stdlib/v1.8/LinearAlgebra/src/symmetric.jl:727</a></li> <li> exp(x::<b>BigFloat</b>) in Base.MPFR at <a href=\"https://github.com/JuliaLang/julia/tree/36034abf26062acad4af9dcec7c4fc53b260dbb4/base/mpfr.jl#L626\" target=\"_blank\">mpfr.jl:626</a></li> <li> exp(x::<b>Real</b>) in Base.Math at <a href=\"https://github.com/JuliaLang/julia/tree/36034abf26062acad4af9dcec7c4fc53b260dbb4/base/math.jl#L1369\" target=\"_blank\">math.jl:1369</a></li> <li> exp(::<b>Missing</b>) in Base.Math at <a href=\"https://github.com/JuliaLang/julia/tree/36034abf26062acad4af9dcec7c4fc53b260dbb4/base/math.jl#L1374\" target=\"_blank\">math.jl:1374</a></li> <li> exp(a::<b>ComplexF16</b>) in Base.Math at <a href=\"https://github.com/JuliaLang/julia/tree/36034abf26062acad4af9dcec7c4fc53b260dbb4/base/math.jl#L1358\" target=\"_blank\">math.jl:1358</a></li> <li> exp(z::<b>Complex</b>) in Base at <a href=\"https://github.com/JuliaLang/julia/tree/36034abf26062acad4af9dcec7c4fc53b260dbb4/base/complex.jl#L680\" target=\"_blank\">complex.jl:680</a></li> </ul>"
      ],
      "text/plain": [
       "# 14 methods for generic function \"exp\":\n",
       "[1] exp(x::Union{Float16, Float32, Float64}) in Base.Math at special/exp.jl:326\n",
       "[2] exp(A::StridedMatrix{var\"#s885\"} where var\"#s885\"<:Union{Float32, Float64, ComplexF32, ComplexF64}) in LinearAlgebra at /opt/jupyterhub/kernels/julia-1.8/share/julia/stdlib/v1.8/LinearAlgebra/src/dense.jl:569\n",
       "[3] exp(A::StridedMatrix{var\"#s885\"} where var\"#s885\"<:Union{Integer, Complex{<:Integer}}) in LinearAlgebra at /opt/jupyterhub/kernels/julia-1.8/share/julia/stdlib/v1.8/LinearAlgebra/src/dense.jl:570\n",
       "[4] exp(A::LinearAlgebra.Transpose{<:Any, <:AbstractMatrix}) in LinearAlgebra at /opt/jupyterhub/kernels/julia-1.8/share/julia/stdlib/v1.8/LinearAlgebra/src/dense.jl:572\n",
       "[5] exp(J::LinearAlgebra.UniformScaling) in LinearAlgebra at /opt/jupyterhub/kernels/julia-1.8/share/julia/stdlib/v1.8/LinearAlgebra/src/uniformscaling.jl:173\n",
       "[6] exp(A::LinearAlgebra.Adjoint{<:Any, <:AbstractMatrix}) in LinearAlgebra at /opt/jupyterhub/kernels/julia-1.8/share/julia/stdlib/v1.8/LinearAlgebra/src/dense.jl:571\n",
       "[7] exp(D::LinearAlgebra.Diagonal) in LinearAlgebra at /opt/jupyterhub/kernels/julia-1.8/share/julia/stdlib/v1.8/LinearAlgebra/src/diagonal.jl:674\n",
       "[8] exp(A::LinearAlgebra.Hermitian{var\"#s884\", S} where {var\"#s884\"<:Complex, S<:(AbstractMatrix{<:var\"#s884\"})}) in LinearAlgebra at /opt/jupyterhub/kernels/julia-1.8/share/julia/stdlib/v1.8/LinearAlgebra/src/symmetric.jl:731\n",
       "[9] exp(A::Union{LinearAlgebra.Hermitian{var\"#s885\", S}, LinearAlgebra.Symmetric{var\"#s885\", S}} where {var\"#s885\"<:Real, S}) in LinearAlgebra at /opt/jupyterhub/kernels/julia-1.8/share/julia/stdlib/v1.8/LinearAlgebra/src/symmetric.jl:727\n",
       "[10] exp(x::BigFloat) in Base.MPFR at mpfr.jl:626\n",
       "[11] exp(x::Real) in Base.Math at math.jl:1369\n",
       "[12] exp(::Missing) in Base.Math at math.jl:1374\n",
       "[13] exp(a::ComplexF16) in Base.Math at math.jl:1358\n",
       "[14] exp(z::Complex) in Base at complex.jl:680"
      ]
     },
     "execution_count": 21,
     "metadata": {},
     "output_type": "execute_result"
    }
   ],
   "source": [
    "# Przykładowa funkcja, którą będziemy aproksymować\n",
    "myfun = exp\n",
    "methods(exp)"
   ]
  },
  {
   "cell_type": "code",
   "execution_count": 22,
   "metadata": {},
   "outputs": [],
   "source": [
    "#import Pkg; \n",
    "#Pkg.add(\"Polynomials\")"
   ]
  },
  {
   "cell_type": "code",
   "execution_count": 23,
   "metadata": {},
   "outputs": [
    {
     "data": {
      "text/html": [
       "&#45;1086.865870849027 &#43; 2905.5721994684864&#8729;x &#45; 1082.7457238744705&#8729;x<sup>2</sup> &#43; 100.44658880845454&#8729;x<sup>3</sup>"
      ],
      "text/latex": [
       "$-1086.865870849027 + 2905.5721994684864\\cdot x - 1082.7457238744705\\cdot x^{2} + 100.44658880845454\\cdot x^{3}$"
      ],
      "text/plain": [
       "Polynomial(-1086.865870849027 + 2905.5721994684864*x - 1082.7457238744705*x^2 + 100.44658880845454*x^3)"
      ]
     },
     "execution_count": 23,
     "metadata": {},
     "output_type": "execute_result"
    }
   ],
   "source": [
    "# aproksymacja sredniokwadratowa wielomianem - tutaj przyklad dla wielomianu 3 stopnia\n",
    "using Polynomials\n",
    "# tworzę punkty do aproksymacji (tutaj jako przykład wyliczone wartości funkcji e^x)\n",
    "xs = 0:10\n",
    "ys = map(myfun, xs)\n",
    "\n",
    "# dopasowuje wielomian trzeciego stopnia do danych\n",
    "fit_poly_3 = fit(xs, ys, 3)"
   ]
  },
  {
   "cell_type": "code",
   "execution_count": 24,
   "metadata": {},
   "outputs": [
    {
     "data": {
      "text/plain": [
       "Polynomial{Float64, :x}"
      ]
     },
     "execution_count": 24,
     "metadata": {},
     "output_type": "execute_result"
    }
   ],
   "source": [
    "typeof(fit_poly_3)"
   ]
  },
  {
   "cell_type": "code",
   "execution_count": 25,
   "metadata": {},
   "outputs": [
    {
     "data": {
      "text/plain": [
       "836.4071935534434"
      ]
     },
     "execution_count": 25,
     "metadata": {},
     "output_type": "execute_result"
    }
   ],
   "source": [
    "# obliczanie wartosci wielomianu \n",
    "fit_poly_3(1)"
   ]
  },
  {
   "cell_type": "code",
   "execution_count": 26,
   "metadata": {},
   "outputs": [],
   "source": [
    "using Plots"
   ]
  },
  {
   "cell_type": "code",
   "execution_count": 27,
   "metadata": {},
   "outputs": [
    {
     "data": {
      "image/svg+xml": [
       "<?xml version=\"1.0\" encoding=\"utf-8\"?>\n",
       "<svg xmlns=\"http://www.w3.org/2000/svg\" xmlns:xlink=\"http://www.w3.org/1999/xlink\" width=\"600\" height=\"400\" viewBox=\"0 0 2400 1600\">\n",
       "<defs>\n",
       "  <clipPath id=\"clip540\">\n",
       "    <rect x=\"0\" y=\"0\" width=\"2400\" height=\"1600\"/>\n",
       "  </clipPath>\n",
       "</defs>\n",
       "<path clip-path=\"url(#clip540)\" d=\"\n",
       "M0 1600 L2400 1600 L2400 0 L0 0  Z\n",
       "  \" fill=\"#ffffff\" fill-rule=\"evenodd\" fill-opacity=\"1\"/>\n",
       "<defs>\n",
       "  <clipPath id=\"clip541\">\n",
       "    <rect x=\"480\" y=\"0\" width=\"1681\" height=\"1600\"/>\n",
       "  </clipPath>\n",
       "</defs>\n",
       "<path clip-path=\"url(#clip540)\" d=\"\n",
       "M306.435 1486.45 L2352.76 1486.45 L2352.76 47.2441 L306.435 47.2441  Z\n",
       "  \" fill=\"#ffffff\" fill-rule=\"evenodd\" fill-opacity=\"1\"/>\n",
       "<defs>\n",
       "  <clipPath id=\"clip542\">\n",
       "    <rect x=\"306\" y=\"47\" width=\"2047\" height=\"1440\"/>\n",
       "  </clipPath>\n",
       "</defs>\n",
       "<polyline clip-path=\"url(#clip542)\" style=\"stroke:#000000; stroke-linecap:round; stroke-linejoin:round; stroke-width:2; stroke-opacity:0.1; fill:none\" points=\"\n",
       "  364.35,1486.45 364.35,47.2441 \n",
       "  \"/>\n",
       "<polyline clip-path=\"url(#clip542)\" style=\"stroke:#000000; stroke-linecap:round; stroke-linejoin:round; stroke-width:2; stroke-opacity:0.1; fill:none\" points=\"\n",
       "  846.973,1486.45 846.973,47.2441 \n",
       "  \"/>\n",
       "<polyline clip-path=\"url(#clip542)\" style=\"stroke:#000000; stroke-linecap:round; stroke-linejoin:round; stroke-width:2; stroke-opacity:0.1; fill:none\" points=\"\n",
       "  1329.6,1486.45 1329.6,47.2441 \n",
       "  \"/>\n",
       "<polyline clip-path=\"url(#clip542)\" style=\"stroke:#000000; stroke-linecap:round; stroke-linejoin:round; stroke-width:2; stroke-opacity:0.1; fill:none\" points=\"\n",
       "  1812.22,1486.45 1812.22,47.2441 \n",
       "  \"/>\n",
       "<polyline clip-path=\"url(#clip542)\" style=\"stroke:#000000; stroke-linecap:round; stroke-linejoin:round; stroke-width:2; stroke-opacity:0.1; fill:none\" points=\"\n",
       "  2294.84,1486.45 2294.84,47.2441 \n",
       "  \"/>\n",
       "<polyline clip-path=\"url(#clip540)\" style=\"stroke:#000000; stroke-linecap:round; stroke-linejoin:round; stroke-width:4; stroke-opacity:1; fill:none\" points=\"\n",
       "  306.435,1486.45 2352.76,1486.45 \n",
       "  \"/>\n",
       "<polyline clip-path=\"url(#clip540)\" style=\"stroke:#000000; stroke-linecap:round; stroke-linejoin:round; stroke-width:4; stroke-opacity:1; fill:none\" points=\"\n",
       "  364.35,1486.45 364.35,1467.55 \n",
       "  \"/>\n",
       "<polyline clip-path=\"url(#clip540)\" style=\"stroke:#000000; stroke-linecap:round; stroke-linejoin:round; stroke-width:4; stroke-opacity:1; fill:none\" points=\"\n",
       "  846.973,1486.45 846.973,1467.55 \n",
       "  \"/>\n",
       "<polyline clip-path=\"url(#clip540)\" style=\"stroke:#000000; stroke-linecap:round; stroke-linejoin:round; stroke-width:4; stroke-opacity:1; fill:none\" points=\"\n",
       "  1329.6,1486.45 1329.6,1467.55 \n",
       "  \"/>\n",
       "<polyline clip-path=\"url(#clip540)\" style=\"stroke:#000000; stroke-linecap:round; stroke-linejoin:round; stroke-width:4; stroke-opacity:1; fill:none\" points=\"\n",
       "  1812.22,1486.45 1812.22,1467.55 \n",
       "  \"/>\n",
       "<polyline clip-path=\"url(#clip540)\" style=\"stroke:#000000; stroke-linecap:round; stroke-linejoin:round; stroke-width:4; stroke-opacity:1; fill:none\" points=\"\n",
       "  2294.84,1486.45 2294.84,1467.55 \n",
       "  \"/>\n",
       "<path clip-path=\"url(#clip540)\" d=\"M341.735 1517.37 Q338.123 1517.37 336.295 1520.93 Q334.489 1524.47 334.489 1531.6 Q334.489 1538.71 336.295 1542.27 Q338.123 1545.82 341.735 1545.82 Q345.369 1545.82 347.174 1542.27 Q349.003 1538.71 349.003 1531.6 Q349.003 1524.47 347.174 1520.93 Q345.369 1517.37 341.735 1517.37 M341.735 1513.66 Q347.545 1513.66 350.6 1518.27 Q353.679 1522.85 353.679 1531.6 Q353.679 1540.33 350.6 1544.94 Q347.545 1549.52 341.735 1549.52 Q335.924 1549.52 332.846 1544.94 Q329.79 1540.33 329.79 1531.6 Q329.79 1522.85 332.846 1518.27 Q335.924 1513.66 341.735 1513.66 Z\" fill=\"#000000\" fill-rule=\"evenodd\" fill-opacity=\"1\" /><path clip-path=\"url(#clip540)\" d=\"M361.896 1542.97 L366.781 1542.97 L366.781 1548.85 L361.896 1548.85 L361.896 1542.97 Z\" fill=\"#000000\" fill-rule=\"evenodd\" fill-opacity=\"1\" /><path clip-path=\"url(#clip540)\" d=\"M386.966 1517.37 Q383.355 1517.37 381.526 1520.93 Q379.72 1524.47 379.72 1531.6 Q379.72 1538.71 381.526 1542.27 Q383.355 1545.82 386.966 1545.82 Q390.6 1545.82 392.406 1542.27 Q394.234 1538.71 394.234 1531.6 Q394.234 1524.47 392.406 1520.93 Q390.6 1517.37 386.966 1517.37 M386.966 1513.66 Q392.776 1513.66 395.831 1518.27 Q398.91 1522.85 398.91 1531.6 Q398.91 1540.33 395.831 1544.94 Q392.776 1549.52 386.966 1549.52 Q381.156 1549.52 378.077 1544.94 Q375.021 1540.33 375.021 1531.6 Q375.021 1522.85 378.077 1518.27 Q381.156 1513.66 386.966 1513.66 Z\" fill=\"#000000\" fill-rule=\"evenodd\" fill-opacity=\"1\" /><path clip-path=\"url(#clip540)\" d=\"M818.709 1544.91 L835.029 1544.91 L835.029 1548.85 L813.084 1548.85 L813.084 1544.91 Q815.746 1542.16 820.33 1537.53 Q824.936 1532.88 826.117 1531.53 Q828.362 1529.01 829.242 1527.27 Q830.144 1525.51 830.144 1523.82 Q830.144 1521.07 828.2 1519.33 Q826.279 1517.6 823.177 1517.6 Q820.978 1517.6 818.524 1518.36 Q816.093 1519.13 813.316 1520.68 L813.316 1515.95 Q816.14 1514.82 818.593 1514.24 Q821.047 1513.66 823.084 1513.66 Q828.454 1513.66 831.649 1516.35 Q834.843 1519.03 834.843 1523.52 Q834.843 1525.65 834.033 1527.57 Q833.246 1529.47 831.14 1532.07 Q830.561 1532.74 827.459 1535.95 Q824.357 1539.15 818.709 1544.91 Z\" fill=\"#000000\" fill-rule=\"evenodd\" fill-opacity=\"1\" /><path clip-path=\"url(#clip540)\" d=\"M844.843 1542.97 L849.728 1542.97 L849.728 1548.85 L844.843 1548.85 L844.843 1542.97 Z\" fill=\"#000000\" fill-rule=\"evenodd\" fill-opacity=\"1\" /><path clip-path=\"url(#clip540)\" d=\"M859.959 1514.29 L878.315 1514.29 L878.315 1518.22 L864.241 1518.22 L864.241 1526.7 Q865.26 1526.35 866.278 1526.19 Q867.297 1526 868.315 1526 Q874.102 1526 877.482 1529.17 Q880.862 1532.34 880.862 1537.76 Q880.862 1543.34 877.389 1546.44 Q873.917 1549.52 867.598 1549.52 Q865.422 1549.52 863.153 1549.15 Q860.908 1548.78 858.501 1548.04 L858.501 1543.34 Q860.584 1544.47 862.806 1545.03 Q865.028 1545.58 867.505 1545.58 Q871.51 1545.58 873.848 1543.48 Q876.186 1541.37 876.186 1537.76 Q876.186 1534.15 873.848 1532.04 Q871.51 1529.94 867.505 1529.94 Q865.63 1529.94 863.755 1530.35 Q861.903 1530.77 859.959 1531.65 L859.959 1514.29 Z\" fill=\"#000000\" fill-rule=\"evenodd\" fill-opacity=\"1\" /><path clip-path=\"url(#clip540)\" d=\"M1296.76 1514.29 L1315.12 1514.29 L1315.12 1518.22 L1301.04 1518.22 L1301.04 1526.7 Q1302.06 1526.35 1303.08 1526.19 Q1304.1 1526 1305.12 1526 Q1310.9 1526 1314.28 1529.17 Q1317.66 1532.34 1317.66 1537.76 Q1317.66 1543.34 1314.19 1546.44 Q1310.72 1549.52 1304.4 1549.52 Q1302.22 1549.52 1299.95 1549.15 Q1297.71 1548.78 1295.3 1548.04 L1295.3 1543.34 Q1297.39 1544.47 1299.61 1545.03 Q1301.83 1545.58 1304.31 1545.58 Q1308.31 1545.58 1310.65 1543.48 Q1312.99 1541.37 1312.99 1537.76 Q1312.99 1534.15 1310.65 1532.04 Q1308.31 1529.94 1304.31 1529.94 Q1302.43 1529.94 1300.56 1530.35 Q1298.7 1530.77 1296.76 1531.65 L1296.76 1514.29 Z\" fill=\"#000000\" fill-rule=\"evenodd\" fill-opacity=\"1\" /><path clip-path=\"url(#clip540)\" d=\"M1326.88 1542.97 L1331.76 1542.97 L1331.76 1548.85 L1326.88 1548.85 L1326.88 1542.97 Z\" fill=\"#000000\" fill-rule=\"evenodd\" fill-opacity=\"1\" /><path clip-path=\"url(#clip540)\" d=\"M1351.95 1517.37 Q1348.33 1517.37 1346.51 1520.93 Q1344.7 1524.47 1344.7 1531.6 Q1344.7 1538.71 1346.51 1542.27 Q1348.33 1545.82 1351.95 1545.82 Q1355.58 1545.82 1357.38 1542.27 Q1359.21 1538.71 1359.21 1531.6 Q1359.21 1524.47 1357.38 1520.93 Q1355.58 1517.37 1351.95 1517.37 M1351.95 1513.66 Q1357.76 1513.66 1360.81 1518.27 Q1363.89 1522.85 1363.89 1531.6 Q1363.89 1540.33 1360.81 1544.94 Q1357.76 1549.52 1351.95 1549.52 Q1346.13 1549.52 1343.06 1544.94 Q1340 1540.33 1340 1531.6 Q1340 1522.85 1343.06 1518.27 Q1346.13 1513.66 1351.95 1513.66 Z\" fill=\"#000000\" fill-rule=\"evenodd\" fill-opacity=\"1\" /><path clip-path=\"url(#clip540)\" d=\"M1778.54 1514.29 L1800.76 1514.29 L1800.76 1516.28 L1788.21 1548.85 L1783.33 1548.85 L1795.14 1518.22 L1778.54 1518.22 L1778.54 1514.29 Z\" fill=\"#000000\" fill-rule=\"evenodd\" fill-opacity=\"1\" /><path clip-path=\"url(#clip540)\" d=\"M1809.88 1542.97 L1814.76 1542.97 L1814.76 1548.85 L1809.88 1548.85 L1809.88 1542.97 Z\" fill=\"#000000\" fill-rule=\"evenodd\" fill-opacity=\"1\" /><path clip-path=\"url(#clip540)\" d=\"M1825 1514.29 L1843.35 1514.29 L1843.35 1518.22 L1829.28 1518.22 L1829.28 1526.7 Q1830.3 1526.35 1831.32 1526.19 Q1832.33 1526 1833.35 1526 Q1839.14 1526 1842.52 1529.17 Q1845.9 1532.34 1845.9 1537.76 Q1845.9 1543.34 1842.43 1546.44 Q1838.95 1549.52 1832.63 1549.52 Q1830.46 1549.52 1828.19 1549.15 Q1825.95 1548.78 1823.54 1548.04 L1823.54 1543.34 Q1825.62 1544.47 1827.84 1545.03 Q1830.07 1545.58 1832.54 1545.58 Q1836.55 1545.58 1838.88 1543.48 Q1841.22 1541.37 1841.22 1537.76 Q1841.22 1534.15 1838.88 1532.04 Q1836.55 1529.94 1832.54 1529.94 Q1830.67 1529.94 1828.79 1530.35 Q1826.94 1530.77 1825 1531.65 L1825 1514.29 Z\" fill=\"#000000\" fill-rule=\"evenodd\" fill-opacity=\"1\" /><path clip-path=\"url(#clip540)\" d=\"M2246.91 1544.91 L2254.55 1544.91 L2254.55 1518.55 L2246.24 1520.21 L2246.24 1515.95 L2254.51 1514.29 L2259.18 1514.29 L2259.18 1544.91 L2266.82 1544.91 L2266.82 1548.85 L2246.91 1548.85 L2246.91 1544.91 Z\" fill=\"#000000\" fill-rule=\"evenodd\" fill-opacity=\"1\" /><path clip-path=\"url(#clip540)\" d=\"M2286.26 1517.37 Q2282.65 1517.37 2280.83 1520.93 Q2279.02 1524.47 2279.02 1531.6 Q2279.02 1538.71 2280.83 1542.27 Q2282.65 1545.82 2286.26 1545.82 Q2289.9 1545.82 2291.7 1542.27 Q2293.53 1538.71 2293.53 1531.6 Q2293.53 1524.47 2291.7 1520.93 Q2289.9 1517.37 2286.26 1517.37 M2286.26 1513.66 Q2292.07 1513.66 2295.13 1518.27 Q2298.21 1522.85 2298.21 1531.6 Q2298.21 1540.33 2295.13 1544.94 Q2292.07 1549.52 2286.26 1549.52 Q2280.45 1549.52 2277.38 1544.94 Q2274.32 1540.33 2274.32 1531.6 Q2274.32 1522.85 2277.38 1518.27 Q2280.45 1513.66 2286.26 1513.66 Z\" fill=\"#000000\" fill-rule=\"evenodd\" fill-opacity=\"1\" /><path clip-path=\"url(#clip540)\" d=\"M2306.43 1542.97 L2311.31 1542.97 L2311.31 1548.85 L2306.43 1548.85 L2306.43 1542.97 Z\" fill=\"#000000\" fill-rule=\"evenodd\" fill-opacity=\"1\" /><path clip-path=\"url(#clip540)\" d=\"M2331.5 1517.37 Q2327.88 1517.37 2326.06 1520.93 Q2324.25 1524.47 2324.25 1531.6 Q2324.25 1538.71 2326.06 1542.27 Q2327.88 1545.82 2331.5 1545.82 Q2335.13 1545.82 2336.94 1542.27 Q2338.76 1538.71 2338.76 1531.6 Q2338.76 1524.47 2336.94 1520.93 Q2335.13 1517.37 2331.5 1517.37 M2331.5 1513.66 Q2337.31 1513.66 2340.36 1518.27 Q2343.44 1522.85 2343.44 1531.6 Q2343.44 1540.33 2340.36 1544.94 Q2337.31 1549.52 2331.5 1549.52 Q2325.69 1549.52 2322.61 1544.94 Q2319.55 1540.33 2319.55 1531.6 Q2319.55 1522.85 2322.61 1518.27 Q2325.69 1513.66 2331.5 1513.66 Z\" fill=\"#000000\" fill-rule=\"evenodd\" fill-opacity=\"1\" /><polyline clip-path=\"url(#clip542)\" style=\"stroke:#000000; stroke-linecap:round; stroke-linejoin:round; stroke-width:2; stroke-opacity:0.1; fill:none\" points=\"\n",
       "  306.435,1378.18 2352.76,1378.18 \n",
       "  \"/>\n",
       "<polyline clip-path=\"url(#clip542)\" style=\"stroke:#000000; stroke-linecap:round; stroke-linejoin:round; stroke-width:2; stroke-opacity:0.1; fill:none\" points=\"\n",
       "  306.435,1085.31 2352.76,1085.31 \n",
       "  \"/>\n",
       "<polyline clip-path=\"url(#clip542)\" style=\"stroke:#000000; stroke-linecap:round; stroke-linejoin:round; stroke-width:2; stroke-opacity:0.1; fill:none\" points=\"\n",
       "  306.435,792.43 2352.76,792.43 \n",
       "  \"/>\n",
       "<polyline clip-path=\"url(#clip542)\" style=\"stroke:#000000; stroke-linecap:round; stroke-linejoin:round; stroke-width:2; stroke-opacity:0.1; fill:none\" points=\"\n",
       "  306.435,499.554 2352.76,499.554 \n",
       "  \"/>\n",
       "<polyline clip-path=\"url(#clip542)\" style=\"stroke:#000000; stroke-linecap:round; stroke-linejoin:round; stroke-width:2; stroke-opacity:0.1; fill:none\" points=\"\n",
       "  306.435,206.677 2352.76,206.677 \n",
       "  \"/>\n",
       "<polyline clip-path=\"url(#clip540)\" style=\"stroke:#000000; stroke-linecap:round; stroke-linejoin:round; stroke-width:4; stroke-opacity:1; fill:none\" points=\"\n",
       "  306.435,1486.45 306.435,47.2441 \n",
       "  \"/>\n",
       "<polyline clip-path=\"url(#clip540)\" style=\"stroke:#000000; stroke-linecap:round; stroke-linejoin:round; stroke-width:4; stroke-opacity:1; fill:none\" points=\"\n",
       "  306.435,1378.18 325.333,1378.18 \n",
       "  \"/>\n",
       "<polyline clip-path=\"url(#clip540)\" style=\"stroke:#000000; stroke-linecap:round; stroke-linejoin:round; stroke-width:4; stroke-opacity:1; fill:none\" points=\"\n",
       "  306.435,1085.31 325.333,1085.31 \n",
       "  \"/>\n",
       "<polyline clip-path=\"url(#clip540)\" style=\"stroke:#000000; stroke-linecap:round; stroke-linejoin:round; stroke-width:4; stroke-opacity:1; fill:none\" points=\"\n",
       "  306.435,792.43 325.333,792.43 \n",
       "  \"/>\n",
       "<polyline clip-path=\"url(#clip540)\" style=\"stroke:#000000; stroke-linecap:round; stroke-linejoin:round; stroke-width:4; stroke-opacity:1; fill:none\" points=\"\n",
       "  306.435,499.554 325.333,499.554 \n",
       "  \"/>\n",
       "<polyline clip-path=\"url(#clip540)\" style=\"stroke:#000000; stroke-linecap:round; stroke-linejoin:round; stroke-width:4; stroke-opacity:1; fill:none\" points=\"\n",
       "  306.435,206.677 325.333,206.677 \n",
       "  \"/>\n",
       "<path clip-path=\"url(#clip540)\" d=\"M258.491 1363.98 Q254.88 1363.98 253.051 1367.55 Q251.246 1371.09 251.246 1378.22 Q251.246 1385.32 253.051 1388.89 Q254.88 1392.43 258.491 1392.43 Q262.125 1392.43 263.931 1388.89 Q265.759 1385.32 265.759 1378.22 Q265.759 1371.09 263.931 1367.55 Q262.125 1363.98 258.491 1363.98 M258.491 1360.28 Q264.301 1360.28 267.357 1364.88 Q270.435 1369.47 270.435 1378.22 Q270.435 1386.94 267.357 1391.55 Q264.301 1396.13 258.491 1396.13 Q252.681 1396.13 249.602 1391.55 Q246.547 1386.94 246.547 1378.22 Q246.547 1369.47 249.602 1364.88 Q252.681 1360.28 258.491 1360.28 Z\" fill=\"#000000\" fill-rule=\"evenodd\" fill-opacity=\"1\" /><path clip-path=\"url(#clip540)\" d=\"M54.6105 1074.47 L72.9668 1074.47 L72.9668 1078.41 L58.8928 1078.41 L58.8928 1086.88 Q59.9113 1086.53 60.9299 1086.37 Q61.9484 1086.19 62.9669 1086.19 Q68.7539 1086.19 72.1335 1089.36 Q75.5131 1092.53 75.5131 1097.95 Q75.5131 1103.52 72.0409 1106.63 Q68.5687 1109.71 62.2493 1109.71 Q60.0734 1109.71 57.8049 1109.34 Q55.5595 1108.96 53.1521 1108.22 L53.1521 1103.52 Q55.2354 1104.66 57.4577 1105.21 Q59.6799 1105.77 62.1567 1105.77 Q66.1613 1105.77 68.4993 1103.66 Q70.8372 1101.56 70.8372 1097.95 Q70.8372 1094.34 68.4993 1092.23 Q66.1613 1090.12 62.1567 1090.12 Q60.2817 1090.12 58.4067 1090.54 Q56.5549 1090.96 54.6105 1091.84 L54.6105 1074.47 Z\" fill=\"#000000\" fill-rule=\"evenodd\" fill-opacity=\"1\" /><path clip-path=\"url(#clip540)\" d=\"M84.726 1103.15 L89.6103 1103.15 L89.6103 1109.03 L84.726 1109.03 L84.726 1103.15 Z\" fill=\"#000000\" fill-rule=\"evenodd\" fill-opacity=\"1\" /><path clip-path=\"url(#clip540)\" d=\"M109.795 1077.55 Q106.184 1077.55 104.356 1081.12 Q102.55 1084.66 102.55 1091.79 Q102.55 1098.9 104.356 1102.46 Q106.184 1106 109.795 1106 Q113.43 1106 115.235 1102.46 Q117.064 1098.9 117.064 1091.79 Q117.064 1084.66 115.235 1081.12 Q113.43 1077.55 109.795 1077.55 M109.795 1073.85 Q115.605 1073.85 118.661 1078.46 Q121.74 1083.04 121.74 1091.79 Q121.74 1100.52 118.661 1105.12 Q115.605 1109.71 109.795 1109.71 Q103.985 1109.71 100.906 1105.12 Q97.851 1100.52 97.851 1091.79 Q97.851 1083.04 100.906 1078.46 Q103.985 1073.85 109.795 1073.85 Z\" fill=\"#000000\" fill-rule=\"evenodd\" fill-opacity=\"1\" /><path clip-path=\"url(#clip540)\" d=\"M139.957 1077.55 Q136.346 1077.55 134.517 1081.12 Q132.712 1084.66 132.712 1091.79 Q132.712 1098.9 134.517 1102.46 Q136.346 1106 139.957 1106 Q143.591 1106 145.397 1102.46 Q147.226 1098.9 147.226 1091.79 Q147.226 1084.66 145.397 1081.12 Q143.591 1077.55 139.957 1077.55 M139.957 1073.85 Q145.767 1073.85 148.823 1078.46 Q151.902 1083.04 151.902 1091.79 Q151.902 1100.52 148.823 1105.12 Q145.767 1109.71 139.957 1109.71 Q134.147 1109.71 131.068 1105.12 Q128.013 1100.52 128.013 1091.79 Q128.013 1083.04 131.068 1078.46 Q134.147 1073.85 139.957 1073.85 Z\" fill=\"#000000\" fill-rule=\"evenodd\" fill-opacity=\"1\" /><path clip-path=\"url(#clip540)\" d=\"M188.29 1083.57 L177.712 1094.2 L188.29 1104.77 L185.536 1107.58 L174.911 1096.95 L164.286 1107.58 L161.554 1104.77 L172.11 1094.2 L161.554 1083.57 L164.286 1080.77 L174.911 1091.4 L185.536 1080.77 L188.29 1083.57 Z\" fill=\"#000000\" fill-rule=\"evenodd\" fill-opacity=\"1\" /><path clip-path=\"url(#clip540)\" d=\"M200.651 1105.1 L208.29 1105.1 L208.29 1078.73 L199.98 1080.4 L199.98 1076.14 L208.244 1074.47 L212.92 1074.47 L212.92 1105.1 L220.559 1105.1 L220.559 1109.03 L200.651 1109.03 L200.651 1105.1 Z\" fill=\"#000000\" fill-rule=\"evenodd\" fill-opacity=\"1\" /><path clip-path=\"url(#clip540)\" d=\"M240.003 1077.55 Q236.392 1077.55 234.563 1081.12 Q232.758 1084.66 232.758 1091.79 Q232.758 1098.9 234.563 1102.46 Q236.392 1106 240.003 1106 Q243.637 1106 245.443 1102.46 Q247.271 1098.9 247.271 1091.79 Q247.271 1084.66 245.443 1081.12 Q243.637 1077.55 240.003 1077.55 M240.003 1073.85 Q245.813 1073.85 248.869 1078.46 Q251.947 1083.04 251.947 1091.79 Q251.947 1100.52 248.869 1105.12 Q245.813 1109.71 240.003 1109.71 Q234.193 1109.71 231.114 1105.12 Q228.059 1100.52 228.059 1091.79 Q228.059 1083.04 231.114 1078.46 Q234.193 1073.85 240.003 1073.85 Z\" fill=\"#000000\" fill-rule=\"evenodd\" fill-opacity=\"1\" /><path clip-path=\"url(#clip540)\" d=\"M264.643 1066.48 Q267.37 1067.07 268.893 1068.91 Q270.435 1070.75 270.435 1073.46 Q270.435 1077.62 267.577 1079.89 Q264.718 1082.17 259.452 1082.17 Q257.684 1082.17 255.803 1081.81 Q253.941 1081.47 251.947 1080.78 L251.947 1077.11 Q253.527 1078.03 255.408 1078.5 Q257.289 1078.97 259.339 1078.97 Q262.912 1078.97 264.774 1077.56 Q266.655 1076.15 266.655 1073.46 Q266.655 1070.98 264.906 1069.59 Q263.176 1068.18 260.072 1068.18 L256.8 1068.18 L256.8 1065.05 L260.223 1065.05 Q263.025 1065.05 264.511 1063.94 Q265.997 1062.82 265.997 1060.71 Q265.997 1058.55 264.455 1057.4 Q262.931 1056.23 260.072 1056.23 Q258.511 1056.23 256.725 1056.57 Q254.938 1056.91 252.794 1057.63 L252.794 1054.24 Q254.957 1053.64 256.837 1053.34 Q258.737 1053.04 260.411 1053.04 Q264.737 1053.04 267.257 1055.01 Q269.777 1056.97 269.777 1060.31 Q269.777 1062.65 268.442 1064.26 Q267.106 1065.86 264.643 1066.48 Z\" fill=\"#000000\" fill-rule=\"evenodd\" fill-opacity=\"1\" /><path clip-path=\"url(#clip540)\" d=\"M53.3995 812.223 L61.0384 812.223 L61.0384 785.857 L52.7282 787.524 L52.7282 783.264 L60.9921 781.598 L65.668 781.598 L65.668 812.223 L73.3068 812.223 L73.3068 816.158 L53.3995 816.158 L53.3995 812.223 Z\" fill=\"#000000\" fill-rule=\"evenodd\" fill-opacity=\"1\" /><path clip-path=\"url(#clip540)\" d=\"M82.7512 810.278 L87.6354 810.278 L87.6354 816.158 L82.7512 816.158 L82.7512 810.278 Z\" fill=\"#000000\" fill-rule=\"evenodd\" fill-opacity=\"1\" /><path clip-path=\"url(#clip540)\" d=\"M107.821 784.676 Q104.209 784.676 102.381 788.241 Q100.575 791.783 100.575 798.912 Q100.575 806.019 102.381 809.584 Q104.209 813.125 107.821 813.125 Q111.455 813.125 113.26 809.584 Q115.089 806.019 115.089 798.912 Q115.089 791.783 113.26 788.241 Q111.455 784.676 107.821 784.676 M107.821 780.973 Q113.631 780.973 116.686 785.579 Q119.765 790.162 119.765 798.912 Q119.765 807.639 116.686 812.246 Q113.631 816.829 107.821 816.829 Q102.01 816.829 98.9317 812.246 Q95.8761 807.639 95.8761 798.912 Q95.8761 790.162 98.9317 785.579 Q102.01 780.973 107.821 780.973 Z\" fill=\"#000000\" fill-rule=\"evenodd\" fill-opacity=\"1\" /><path clip-path=\"url(#clip540)\" d=\"M137.982 784.676 Q134.371 784.676 132.543 788.241 Q130.737 791.783 130.737 798.912 Q130.737 806.019 132.543 809.584 Q134.371 813.125 137.982 813.125 Q141.617 813.125 143.422 809.584 Q145.251 806.019 145.251 798.912 Q145.251 791.783 143.422 788.241 Q141.617 784.676 137.982 784.676 M137.982 780.973 Q143.793 780.973 146.848 785.579 Q149.927 790.162 149.927 798.912 Q149.927 807.639 146.848 812.246 Q143.793 816.829 137.982 816.829 Q132.172 816.829 129.094 812.246 Q126.038 807.639 126.038 798.912 Q126.038 790.162 129.094 785.579 Q132.172 780.973 137.982 780.973 Z\" fill=\"#000000\" fill-rule=\"evenodd\" fill-opacity=\"1\" /><path clip-path=\"url(#clip540)\" d=\"M186.315 790.695 L175.737 801.32 L186.315 811.898 L183.561 814.699 L172.936 804.074 L162.311 814.699 L159.58 811.898 L170.135 801.32 L159.58 790.695 L162.311 787.894 L172.936 798.519 L183.561 787.894 L186.315 790.695 Z\" fill=\"#000000\" fill-rule=\"evenodd\" fill-opacity=\"1\" /><path clip-path=\"url(#clip540)\" d=\"M198.677 812.223 L206.315 812.223 L206.315 785.857 L198.005 787.524 L198.005 783.264 L206.269 781.598 L210.945 781.598 L210.945 812.223 L218.584 812.223 L218.584 816.158 L198.677 816.158 L198.677 812.223 Z\" fill=\"#000000\" fill-rule=\"evenodd\" fill-opacity=\"1\" /><path clip-path=\"url(#clip540)\" d=\"M238.028 784.676 Q234.417 784.676 232.588 788.241 Q230.783 791.783 230.783 798.912 Q230.783 806.019 232.588 809.584 Q234.417 813.125 238.028 813.125 Q241.662 813.125 243.468 809.584 Q245.297 806.019 245.297 798.912 Q245.297 791.783 243.468 788.241 Q241.662 784.676 238.028 784.676 M238.028 780.973 Q243.838 780.973 246.894 785.579 Q249.973 790.162 249.973 798.912 Q249.973 807.639 246.894 812.246 Q243.838 816.829 238.028 816.829 Q232.218 816.829 229.139 812.246 Q226.084 807.639 226.084 798.912 Q226.084 790.162 229.139 785.579 Q232.218 780.973 238.028 780.973 Z\" fill=\"#000000\" fill-rule=\"evenodd\" fill-opacity=\"1\" /><path clip-path=\"url(#clip540)\" d=\"M262.649 763.977 L253.057 778.967 L262.649 778.967 L262.649 763.977 M261.652 760.667 L266.429 760.667 L266.429 778.967 L270.435 778.967 L270.435 782.127 L266.429 782.127 L266.429 788.747 L262.649 788.747 L262.649 782.127 L249.973 782.127 L249.973 778.459 L261.652 760.667 Z\" fill=\"#000000\" fill-rule=\"evenodd\" fill-opacity=\"1\" /><path clip-path=\"url(#clip540)\" d=\"M53.3995 519.346 L61.0384 519.346 L61.0384 492.98 L52.7282 494.647 L52.7282 490.388 L60.9921 488.721 L65.668 488.721 L65.668 519.346 L73.3068 519.346 L73.3068 523.281 L53.3995 523.281 L53.3995 519.346 Z\" fill=\"#000000\" fill-rule=\"evenodd\" fill-opacity=\"1\" /><path clip-path=\"url(#clip540)\" d=\"M82.7512 517.402 L87.6354 517.402 L87.6354 523.281 L82.7512 523.281 L82.7512 517.402 Z\" fill=\"#000000\" fill-rule=\"evenodd\" fill-opacity=\"1\" /><path clip-path=\"url(#clip540)\" d=\"M97.8669 488.721 L116.223 488.721 L116.223 492.656 L102.149 492.656 L102.149 501.129 Q103.168 500.781 104.186 500.619 Q105.205 500.434 106.223 500.434 Q112.01 500.434 115.39 503.605 Q118.77 506.777 118.77 512.193 Q118.77 517.772 115.297 520.874 Q111.825 523.952 105.506 523.952 Q103.33 523.952 101.061 523.582 Q98.8159 523.212 96.4085 522.471 L96.4085 517.772 Q98.4919 518.906 100.714 519.462 Q102.936 520.017 105.413 520.017 Q109.418 520.017 111.756 517.911 Q114.094 515.804 114.094 512.193 Q114.094 508.582 111.756 506.476 Q109.418 504.369 105.413 504.369 Q103.538 504.369 101.663 504.786 Q99.8113 505.203 97.8669 506.082 L97.8669 488.721 Z\" fill=\"#000000\" fill-rule=\"evenodd\" fill-opacity=\"1\" /><path clip-path=\"url(#clip540)\" d=\"M137.982 491.8 Q134.371 491.8 132.543 495.365 Q130.737 498.906 130.737 506.036 Q130.737 513.142 132.543 516.707 Q134.371 520.249 137.982 520.249 Q141.617 520.249 143.422 516.707 Q145.251 513.142 145.251 506.036 Q145.251 498.906 143.422 495.365 Q141.617 491.8 137.982 491.8 M137.982 488.096 Q143.793 488.096 146.848 492.703 Q149.927 497.286 149.927 506.036 Q149.927 514.763 146.848 519.369 Q143.793 523.952 137.982 523.952 Q132.172 523.952 129.094 519.369 Q126.038 514.763 126.038 506.036 Q126.038 497.286 129.094 492.703 Q132.172 488.096 137.982 488.096 Z\" fill=\"#000000\" fill-rule=\"evenodd\" fill-opacity=\"1\" /><path clip-path=\"url(#clip540)\" d=\"M186.315 497.818 L175.737 508.443 L186.315 519.022 L183.561 521.823 L172.936 511.198 L162.311 521.823 L159.58 519.022 L170.135 508.443 L159.58 497.818 L162.311 495.017 L172.936 505.642 L183.561 495.017 L186.315 497.818 Z\" fill=\"#000000\" fill-rule=\"evenodd\" fill-opacity=\"1\" /><path clip-path=\"url(#clip540)\" d=\"M198.677 519.346 L206.315 519.346 L206.315 492.98 L198.005 494.647 L198.005 490.388 L206.269 488.721 L210.945 488.721 L210.945 519.346 L218.584 519.346 L218.584 523.281 L198.677 523.281 L198.677 519.346 Z\" fill=\"#000000\" fill-rule=\"evenodd\" fill-opacity=\"1\" /><path clip-path=\"url(#clip540)\" d=\"M238.028 491.8 Q234.417 491.8 232.588 495.365 Q230.783 498.906 230.783 506.036 Q230.783 513.142 232.588 516.707 Q234.417 520.249 238.028 520.249 Q241.662 520.249 243.468 516.707 Q245.297 513.142 245.297 506.036 Q245.297 498.906 243.468 495.365 Q241.662 491.8 238.028 491.8 M238.028 488.096 Q243.838 488.096 246.894 492.703 Q249.973 497.286 249.973 506.036 Q249.973 514.763 246.894 519.369 Q243.838 523.952 238.028 523.952 Q232.218 523.952 229.139 519.369 Q226.084 514.763 226.084 506.036 Q226.084 497.286 229.139 492.703 Q232.218 488.096 238.028 488.096 Z\" fill=\"#000000\" fill-rule=\"evenodd\" fill-opacity=\"1\" /><path clip-path=\"url(#clip540)\" d=\"M262.649 471.101 L253.057 486.091 L262.649 486.091 L262.649 471.101 M261.652 467.791 L266.429 467.791 L266.429 486.091 L270.435 486.091 L270.435 489.25 L266.429 489.25 L266.429 495.871 L262.649 495.871 L262.649 489.25 L249.973 489.25 L249.973 485.583 L261.652 467.791 Z\" fill=\"#000000\" fill-rule=\"evenodd\" fill-opacity=\"1\" /><path clip-path=\"url(#clip540)\" d=\"M56.6171 226.47 L72.9365 226.47 L72.9365 230.405 L50.9921 230.405 L50.9921 226.47 Q53.6541 223.715 58.2375 219.085 Q62.8439 214.433 64.0245 213.09 Q66.2698 210.567 67.1494 208.831 Q68.0522 207.072 68.0522 205.382 Q68.0522 202.627 66.1078 200.891 Q64.1865 199.155 61.0847 199.155 Q58.8856 199.155 56.4319 199.919 Q54.0014 200.683 51.2236 202.234 L51.2236 197.511 Q54.0477 196.377 56.5014 195.798 Q58.955 195.22 60.9921 195.22 Q66.3624 195.22 69.5568 197.905 Q72.7513 200.59 72.7513 205.081 Q72.7513 207.21 71.9411 209.132 Q71.1541 211.03 69.0476 213.622 Q68.4689 214.294 65.367 217.511 Q62.2652 220.706 56.6171 226.47 Z\" fill=\"#000000\" fill-rule=\"evenodd\" fill-opacity=\"1\" /><path clip-path=\"url(#clip540)\" d=\"M82.7512 224.525 L87.6354 224.525 L87.6354 230.405 L82.7512 230.405 L82.7512 224.525 Z\" fill=\"#000000\" fill-rule=\"evenodd\" fill-opacity=\"1\" /><path clip-path=\"url(#clip540)\" d=\"M107.821 198.923 Q104.209 198.923 102.381 202.488 Q100.575 206.03 100.575 213.159 Q100.575 220.266 102.381 223.831 Q104.209 227.372 107.821 227.372 Q111.455 227.372 113.26 223.831 Q115.089 220.266 115.089 213.159 Q115.089 206.03 113.26 202.488 Q111.455 198.923 107.821 198.923 M107.821 195.22 Q113.631 195.22 116.686 199.826 Q119.765 204.409 119.765 213.159 Q119.765 221.886 116.686 226.493 Q113.631 231.076 107.821 231.076 Q102.01 231.076 98.9317 226.493 Q95.8761 221.886 95.8761 213.159 Q95.8761 204.409 98.9317 199.826 Q102.01 195.22 107.821 195.22 Z\" fill=\"#000000\" fill-rule=\"evenodd\" fill-opacity=\"1\" /><path clip-path=\"url(#clip540)\" d=\"M137.982 198.923 Q134.371 198.923 132.543 202.488 Q130.737 206.03 130.737 213.159 Q130.737 220.266 132.543 223.831 Q134.371 227.372 137.982 227.372 Q141.617 227.372 143.422 223.831 Q145.251 220.266 145.251 213.159 Q145.251 206.03 143.422 202.488 Q141.617 198.923 137.982 198.923 M137.982 195.22 Q143.793 195.22 146.848 199.826 Q149.927 204.409 149.927 213.159 Q149.927 221.886 146.848 226.493 Q143.793 231.076 137.982 231.076 Q132.172 231.076 129.094 226.493 Q126.038 221.886 126.038 213.159 Q126.038 204.409 129.094 199.826 Q132.172 195.22 137.982 195.22 Z\" fill=\"#000000\" fill-rule=\"evenodd\" fill-opacity=\"1\" /><path clip-path=\"url(#clip540)\" d=\"M186.315 204.942 L175.737 215.567 L186.315 226.145 L183.561 228.946 L172.936 218.321 L162.311 228.946 L159.58 226.145 L170.135 215.567 L159.58 204.942 L162.311 202.141 L172.936 212.766 L183.561 202.141 L186.315 204.942 Z\" fill=\"#000000\" fill-rule=\"evenodd\" fill-opacity=\"1\" /><path clip-path=\"url(#clip540)\" d=\"M198.677 226.47 L206.315 226.47 L206.315 200.104 L198.005 201.771 L198.005 197.511 L206.269 195.845 L210.945 195.845 L210.945 226.47 L218.584 226.47 L218.584 230.405 L198.677 230.405 L198.677 226.47 Z\" fill=\"#000000\" fill-rule=\"evenodd\" fill-opacity=\"1\" /><path clip-path=\"url(#clip540)\" d=\"M238.028 198.923 Q234.417 198.923 232.588 202.488 Q230.783 206.03 230.783 213.159 Q230.783 220.266 232.588 223.831 Q234.417 227.372 238.028 227.372 Q241.662 227.372 243.468 223.831 Q245.297 220.266 245.297 213.159 Q245.297 206.03 243.468 202.488 Q241.662 198.923 238.028 198.923 M238.028 195.22 Q243.838 195.22 246.894 199.826 Q249.973 204.409 249.973 213.159 Q249.973 221.886 246.894 226.493 Q243.838 231.076 238.028 231.076 Q232.218 231.076 229.139 226.493 Q226.084 221.886 226.084 213.159 Q226.084 204.409 229.139 199.826 Q232.218 195.22 238.028 195.22 Z\" fill=\"#000000\" fill-rule=\"evenodd\" fill-opacity=\"1\" /><path clip-path=\"url(#clip540)\" d=\"M262.649 178.224 L253.057 193.214 L262.649 193.214 L262.649 178.224 M261.652 174.914 L266.429 174.914 L266.429 193.214 L270.435 193.214 L270.435 196.374 L266.429 196.374 L266.429 202.994 L262.649 202.994 L262.649 196.374 L249.973 196.374 L249.973 192.706 L261.652 174.914 Z\" fill=\"#000000\" fill-rule=\"evenodd\" fill-opacity=\"1\" /><polyline clip-path=\"url(#clip542)\" style=\"stroke:#009af9; stroke-linecap:round; stroke-linejoin:round; stroke-width:4; stroke-opacity:1; fill:none\" points=\"\n",
       "  364.35,1441.85 383.655,1425.46 402.96,1410.3 422.265,1396.34 441.57,1383.54 460.875,1371.87 480.18,1361.29 499.484,1351.77 518.789,1343.27 538.094,1335.75 \n",
       "  557.399,1329.19 576.704,1323.54 596.009,1318.77 615.314,1314.85 634.619,1311.74 653.924,1309.4 673.229,1307.8 692.534,1306.9 711.839,1306.67 731.143,1307.07 \n",
       "  750.448,1308.08 769.753,1309.64 789.058,1311.73 808.363,1314.31 827.668,1317.35 846.973,1320.82 866.278,1324.66 885.583,1328.86 904.888,1333.37 924.193,1338.16 \n",
       "  943.497,1343.2 962.802,1348.45 982.107,1353.87 1001.41,1359.43 1020.72,1365.09 1040.02,1370.82 1059.33,1376.59 1078.63,1382.35 1097.94,1388.07 1117.24,1393.72 \n",
       "  1136.55,1399.27 1155.85,1404.66 1175.16,1409.88 1194.46,1414.89 1213.77,1419.65 1233.07,1424.12 1252.38,1428.27 1271.68,1432.06 1290.99,1435.47 1310.29,1438.45 \n",
       "  1329.6,1440.97 1348.9,1442.99 1368.21,1444.48 1387.51,1445.4 1406.82,1445.72 1426.12,1445.4 1445.43,1444.4 1464.73,1442.7 1484.03,1440.26 1503.34,1437.04 \n",
       "  1522.64,1433 1541.95,1428.11 1561.25,1422.34 1580.56,1415.65 1599.86,1408 1619.17,1399.36 1638.47,1389.69 1657.78,1378.97 1677.08,1367.14 1696.39,1354.19 \n",
       "  1715.69,1340.06 1735,1324.74 1754.3,1308.17 1773.61,1290.34 1792.91,1271.19 1812.22,1250.7 1831.52,1228.83 1850.83,1205.55 1870.13,1180.81 1889.44,1154.6 \n",
       "  1908.74,1126.86 1928.05,1097.56 1947.35,1066.68 1966.66,1034.17 1985.96,999.992 2005.27,964.121 2024.57,926.519 2043.88,887.148 2063.18,845.975 2082.49,802.964 \n",
       "  2101.79,758.079 2121.1,711.285 2140.4,662.548 2159.71,611.831 2179.01,559.099 2198.32,504.318 2217.62,447.451 2236.93,388.464 2256.23,327.321 2275.54,263.986 \n",
       "  2294.84,198.425 \n",
       "  \"/>\n",
       "<circle clip-path=\"url(#clip542)\" cx=\"364.35\" cy=\"1378.12\" r=\"14.4\" fill=\"#e26f46\" fill-rule=\"evenodd\" fill-opacity=\"1\" stroke=\"#000000\" stroke-opacity=\"1\" stroke-width=\"3.2\"/>\n",
       "<circle clip-path=\"url(#clip542)\" cx=\"557.399\" cy=\"1378.02\" r=\"14.4\" fill=\"#e26f46\" fill-rule=\"evenodd\" fill-opacity=\"1\" stroke=\"#000000\" stroke-opacity=\"1\" stroke-width=\"3.2\"/>\n",
       "<circle clip-path=\"url(#clip542)\" cx=\"750.448\" cy=\"1377.75\" r=\"14.4\" fill=\"#e26f46\" fill-rule=\"evenodd\" fill-opacity=\"1\" stroke=\"#000000\" stroke-opacity=\"1\" stroke-width=\"3.2\"/>\n",
       "<circle clip-path=\"url(#clip542)\" cx=\"943.497\" cy=\"1377.01\" r=\"14.4\" fill=\"#e26f46\" fill-rule=\"evenodd\" fill-opacity=\"1\" stroke=\"#000000\" stroke-opacity=\"1\" stroke-width=\"3.2\"/>\n",
       "<circle clip-path=\"url(#clip542)\" cx=\"1136.55\" cy=\"1374.98\" r=\"14.4\" fill=\"#e26f46\" fill-rule=\"evenodd\" fill-opacity=\"1\" stroke=\"#000000\" stroke-opacity=\"1\" stroke-width=\"3.2\"/>\n",
       "<circle clip-path=\"url(#clip542)\" cx=\"1329.6\" cy=\"1369.49\" r=\"14.4\" fill=\"#e26f46\" fill-rule=\"evenodd\" fill-opacity=\"1\" stroke=\"#000000\" stroke-opacity=\"1\" stroke-width=\"3.2\"/>\n",
       "<circle clip-path=\"url(#clip542)\" cx=\"1522.64\" cy=\"1354.55\" r=\"14.4\" fill=\"#e26f46\" fill-rule=\"evenodd\" fill-opacity=\"1\" stroke=\"#000000\" stroke-opacity=\"1\" stroke-width=\"3.2\"/>\n",
       "<circle clip-path=\"url(#clip542)\" cx=\"1715.69\" cy=\"1313.95\" r=\"14.4\" fill=\"#e26f46\" fill-rule=\"evenodd\" fill-opacity=\"1\" stroke=\"#000000\" stroke-opacity=\"1\" stroke-width=\"3.2\"/>\n",
       "<circle clip-path=\"url(#clip542)\" cx=\"1908.74\" cy=\"1203.57\" r=\"14.4\" fill=\"#e26f46\" fill-rule=\"evenodd\" fill-opacity=\"1\" stroke=\"#000000\" stroke-opacity=\"1\" stroke-width=\"3.2\"/>\n",
       "<circle clip-path=\"url(#clip542)\" cx=\"2101.79\" cy=\"903.543\" r=\"14.4\" fill=\"#e26f46\" fill-rule=\"evenodd\" fill-opacity=\"1\" stroke=\"#000000\" stroke-opacity=\"1\" stroke-width=\"3.2\"/>\n",
       "<circle clip-path=\"url(#clip542)\" cx=\"2294.84\" cy=\"87.9763\" r=\"14.4\" fill=\"#e26f46\" fill-rule=\"evenodd\" fill-opacity=\"1\" stroke=\"#000000\" stroke-opacity=\"1\" stroke-width=\"3.2\"/>\n",
       "<path clip-path=\"url(#clip540)\" d=\"\n",
       "M977.437 250.738 L2284.55 250.738 L2284.55 95.2176 L977.437 95.2176  Z\n",
       "  \" fill=\"#ffffff\" fill-rule=\"evenodd\" fill-opacity=\"1\"/>\n",
       "<polyline clip-path=\"url(#clip540)\" style=\"stroke:#000000; stroke-linecap:round; stroke-linejoin:round; stroke-width:4; stroke-opacity:1; fill:none\" points=\"\n",
       "  977.437,250.738 2284.55,250.738 2284.55,95.2176 977.437,95.2176 977.437,250.738 \n",
       "  \"/>\n",
       "<polyline clip-path=\"url(#clip540)\" style=\"stroke:#009af9; stroke-linecap:round; stroke-linejoin:round; stroke-width:4; stroke-opacity:1; fill:none\" points=\"\n",
       "  1000.17,147.058 1136.59,147.058 \n",
       "  \"/>\n",
       "<path clip-path=\"url(#clip540)\" d=\"M1172.73 151.305 Q1167.57 151.305 1165.58 152.486 Q1163.59 153.666 1163.59 156.514 Q1163.59 158.782 1165.07 160.125 Q1166.58 161.444 1169.15 161.444 Q1172.69 161.444 1174.82 158.944 Q1176.97 156.421 1176.97 152.254 L1176.97 151.305 L1172.73 151.305 M1181.23 149.546 L1181.23 164.338 L1176.97 164.338 L1176.97 160.402 Q1175.51 162.763 1173.34 163.898 Q1171.16 165.009 1168.01 165.009 Q1164.03 165.009 1161.67 162.787 Q1159.33 160.541 1159.33 156.791 Q1159.33 152.416 1162.25 150.194 Q1165.19 147.972 1171 147.972 L1176.97 147.972 L1176.97 147.555 Q1176.97 144.615 1175.03 143.018 Q1173.1 141.398 1169.61 141.398 Q1167.39 141.398 1165.28 141.93 Q1163.17 142.463 1161.23 143.527 L1161.23 139.592 Q1163.57 138.69 1165.77 138.25 Q1167.97 137.787 1170.05 137.787 Q1175.67 137.787 1178.45 140.703 Q1181.23 143.62 1181.23 149.546 Z\" fill=\"#000000\" fill-rule=\"evenodd\" fill-opacity=\"1\" /><path clip-path=\"url(#clip540)\" d=\"M1194.12 160.449 L1194.12 174.199 L1189.84 174.199 L1189.84 138.412 L1194.12 138.412 L1194.12 142.347 Q1195.47 140.032 1197.5 138.921 Q1199.56 137.787 1202.41 137.787 Q1207.13 137.787 1210.07 141.537 Q1213.04 145.287 1213.04 151.398 Q1213.04 157.509 1210.07 161.259 Q1207.13 165.009 1202.41 165.009 Q1199.56 165.009 1197.5 163.898 Q1195.47 162.763 1194.12 160.449 M1208.61 151.398 Q1208.61 146.699 1206.67 144.037 Q1204.75 141.352 1201.37 141.352 Q1197.99 141.352 1196.04 144.037 Q1194.12 146.699 1194.12 151.398 Q1194.12 156.097 1196.04 158.782 Q1197.99 161.444 1201.37 161.444 Q1204.75 161.444 1206.67 158.782 Q1208.61 156.097 1208.61 151.398 Z\" fill=\"#000000\" fill-rule=\"evenodd\" fill-opacity=\"1\" /><path clip-path=\"url(#clip540)\" d=\"M1235.12 142.393 Q1234.4 141.977 1233.54 141.791 Q1232.71 141.583 1231.69 141.583 Q1228.08 141.583 1226.14 143.944 Q1224.22 146.282 1224.22 150.68 L1224.22 164.338 L1219.93 164.338 L1219.93 138.412 L1224.22 138.412 L1224.22 142.44 Q1225.56 140.078 1227.71 138.944 Q1229.86 137.787 1232.94 137.787 Q1233.38 137.787 1233.91 137.856 Q1234.45 137.903 1235.1 138.018 L1235.12 142.393 Z\" fill=\"#000000\" fill-rule=\"evenodd\" fill-opacity=\"1\" /><path clip-path=\"url(#clip540)\" d=\"M1248.59 141.398 Q1245.16 141.398 1243.17 144.083 Q1241.18 146.745 1241.18 151.398 Q1241.18 156.051 1243.15 158.736 Q1245.14 161.398 1248.59 161.398 Q1251.99 161.398 1253.98 158.713 Q1255.97 156.027 1255.97 151.398 Q1255.97 146.791 1253.98 144.106 Q1251.99 141.398 1248.59 141.398 M1248.59 137.787 Q1254.15 137.787 1257.32 141.398 Q1260.49 145.009 1260.49 151.398 Q1260.49 157.764 1257.32 161.398 Q1254.15 165.009 1248.59 165.009 Q1243.01 165.009 1239.84 161.398 Q1236.69 157.764 1236.69 151.398 Q1236.69 145.009 1239.84 141.398 Q1243.01 137.787 1248.59 137.787 Z\" fill=\"#000000\" fill-rule=\"evenodd\" fill-opacity=\"1\" /><path clip-path=\"url(#clip540)\" d=\"M1267.39 128.319 L1271.67 128.319 L1271.67 149.592 L1284.38 138.412 L1289.82 138.412 L1276.07 150.541 L1290.4 164.338 L1284.84 164.338 L1271.67 151.676 L1271.67 164.338 L1267.39 164.338 L1267.39 128.319 Z\" fill=\"#000000\" fill-rule=\"evenodd\" fill-opacity=\"1\" /><path clip-path=\"url(#clip540)\" d=\"M1311.53 139.176 L1311.53 143.203 Q1309.72 142.277 1307.78 141.815 Q1305.84 141.352 1303.75 141.352 Q1300.58 141.352 1298.98 142.324 Q1297.41 143.296 1297.41 145.24 Q1297.41 146.722 1298.54 147.578 Q1299.68 148.412 1303.1 149.176 L1304.56 149.5 Q1309.1 150.472 1311 152.254 Q1312.92 154.014 1312.92 157.185 Q1312.92 160.796 1310.05 162.902 Q1307.2 165.009 1302.2 165.009 Q1300.12 165.009 1297.85 164.592 Q1295.6 164.199 1293.1 163.388 L1293.1 158.99 Q1295.47 160.217 1297.76 160.842 Q1300.05 161.444 1302.29 161.444 Q1305.3 161.444 1306.92 160.426 Q1308.54 159.384 1308.54 157.509 Q1308.54 155.773 1307.36 154.847 Q1306.21 153.921 1302.25 153.064 L1300.77 152.717 Q1296.81 151.884 1295.05 150.171 Q1293.29 148.435 1293.29 145.426 Q1293.29 141.768 1295.88 139.778 Q1298.47 137.787 1303.24 137.787 Q1305.6 137.787 1307.69 138.134 Q1309.77 138.481 1311.53 139.176 Z\" fill=\"#000000\" fill-rule=\"evenodd\" fill-opacity=\"1\" /><path clip-path=\"url(#clip540)\" d=\"M1330.49 166.745 Q1328.68 171.375 1326.97 172.787 Q1325.26 174.199 1322.39 174.199 L1318.98 174.199 L1318.98 170.634 L1321.48 170.634 Q1323.24 170.634 1324.22 169.8 Q1325.19 168.967 1326.37 165.865 L1327.13 163.921 L1316.65 138.412 L1321.16 138.412 L1329.26 158.689 L1337.36 138.412 L1341.88 138.412 L1330.49 166.745 Z\" fill=\"#000000\" fill-rule=\"evenodd\" fill-opacity=\"1\" /><path clip-path=\"url(#clip540)\" d=\"M1367.94 143.389 Q1369.54 140.518 1371.76 139.153 Q1373.98 137.787 1376.99 137.787 Q1381.04 137.787 1383.24 140.634 Q1385.44 143.458 1385.44 148.689 L1385.44 164.338 L1381.16 164.338 L1381.16 148.828 Q1381.16 145.102 1379.84 143.296 Q1378.52 141.49 1375.81 141.49 Q1372.5 141.49 1370.58 143.69 Q1368.66 145.889 1368.66 149.685 L1368.66 164.338 L1364.38 164.338 L1364.38 148.828 Q1364.38 145.078 1363.06 143.296 Q1361.74 141.49 1358.98 141.49 Q1355.72 141.49 1353.8 143.713 Q1351.88 145.912 1351.88 149.685 L1351.88 164.338 L1347.59 164.338 L1347.59 138.412 L1351.88 138.412 L1351.88 142.44 Q1353.34 140.055 1355.37 138.921 Q1357.41 137.787 1360.21 137.787 Q1363.03 137.787 1365 139.222 Q1366.99 140.657 1367.94 143.389 Z\" fill=\"#000000\" fill-rule=\"evenodd\" fill-opacity=\"1\" /><path clip-path=\"url(#clip540)\" d=\"M1405.72 151.305 Q1400.56 151.305 1398.57 152.486 Q1396.58 153.666 1396.58 156.514 Q1396.58 158.782 1398.06 160.125 Q1399.56 161.444 1402.13 161.444 Q1405.67 161.444 1407.8 158.944 Q1409.96 156.421 1409.96 152.254 L1409.96 151.305 L1405.72 151.305 M1414.21 149.546 L1414.21 164.338 L1409.96 164.338 L1409.96 160.402 Q1408.5 162.763 1406.32 163.898 Q1404.15 165.009 1401 165.009 Q1397.02 165.009 1394.65 162.787 Q1392.32 160.541 1392.32 156.791 Q1392.32 152.416 1395.23 150.194 Q1398.17 147.972 1403.98 147.972 L1409.96 147.972 L1409.96 147.555 Q1409.96 144.615 1408.01 143.018 Q1406.09 141.398 1402.59 141.398 Q1400.37 141.398 1398.27 141.93 Q1396.16 142.463 1394.21 143.527 L1394.21 139.592 Q1396.55 138.69 1398.75 138.25 Q1400.95 137.787 1403.03 137.787 Q1408.66 137.787 1411.44 140.703 Q1414.21 143.62 1414.21 149.546 Z\" fill=\"#000000\" fill-rule=\"evenodd\" fill-opacity=\"1\" /><path clip-path=\"url(#clip540)\" d=\"M1441.65 139.407 L1441.65 143.389 Q1439.84 142.393 1438.01 141.907 Q1436.21 141.398 1434.35 141.398 Q1430.21 141.398 1427.92 144.037 Q1425.63 146.652 1425.63 151.398 Q1425.63 156.143 1427.92 158.782 Q1430.21 161.398 1434.35 161.398 Q1436.21 161.398 1438.01 160.912 Q1439.84 160.402 1441.65 159.407 L1441.65 163.342 Q1439.86 164.176 1437.94 164.592 Q1436.04 165.009 1433.89 165.009 Q1428.03 165.009 1424.59 161.328 Q1421.14 157.648 1421.14 151.398 Q1421.14 145.055 1424.61 141.421 Q1428.1 137.787 1434.17 137.787 Q1436.14 137.787 1438.01 138.203 Q1439.89 138.597 1441.65 139.407 Z\" fill=\"#000000\" fill-rule=\"evenodd\" fill-opacity=\"1\" /><path clip-path=\"url(#clip540)\" d=\"M1449.05 138.412 L1453.31 138.412 L1453.31 164.801 Q1453.31 169.754 1451.41 171.976 Q1449.54 174.199 1445.35 174.199 L1443.73 174.199 L1443.73 170.588 L1444.86 170.588 Q1447.29 170.588 1448.17 169.453 Q1449.05 168.342 1449.05 164.801 L1449.05 138.412 M1449.05 128.319 L1453.31 128.319 L1453.31 133.713 L1449.05 133.713 L1449.05 128.319 Z\" fill=\"#000000\" fill-rule=\"evenodd\" fill-opacity=\"1\" /><path clip-path=\"url(#clip540)\" d=\"M1474.01 151.305 Q1468.84 151.305 1466.85 152.486 Q1464.86 153.666 1464.86 156.514 Q1464.86 158.782 1466.34 160.125 Q1467.85 161.444 1470.42 161.444 Q1473.96 161.444 1476.09 158.944 Q1478.24 156.421 1478.24 152.254 L1478.24 151.305 L1474.01 151.305 M1482.5 149.546 L1482.5 164.338 L1478.24 164.338 L1478.24 160.402 Q1476.78 162.763 1474.61 163.898 Q1472.43 165.009 1469.28 165.009 Q1465.3 165.009 1462.94 162.787 Q1460.6 160.541 1460.6 156.791 Q1460.6 152.416 1463.52 150.194 Q1466.46 147.972 1472.27 147.972 L1478.24 147.972 L1478.24 147.555 Q1478.24 144.615 1476.3 143.018 Q1474.38 141.398 1470.88 141.398 Q1468.66 141.398 1466.55 141.93 Q1464.45 142.463 1462.5 143.527 L1462.5 139.592 Q1464.84 138.69 1467.04 138.25 Q1469.24 137.787 1471.32 137.787 Q1476.95 137.787 1479.72 140.703 Q1482.5 143.62 1482.5 149.546 Z\" fill=\"#000000\" fill-rule=\"evenodd\" fill-opacity=\"1\" /><path clip-path=\"url(#clip540)\" d=\"M1503.87 138.412 L1508.13 138.412 L1513.45 158.643 L1518.75 138.412 L1523.77 138.412 L1529.1 158.643 L1534.4 138.412 L1538.66 138.412 L1531.88 164.338 L1526.85 164.338 L1521.27 143.088 L1515.67 164.338 L1510.65 164.338 L1503.87 138.412 Z\" fill=\"#000000\" fill-rule=\"evenodd\" fill-opacity=\"1\" /><path clip-path=\"url(#clip540)\" d=\"M1545.12 138.412 L1549.38 138.412 L1549.38 164.338 L1545.12 164.338 L1545.12 138.412 M1545.12 128.319 L1549.38 128.319 L1549.38 133.713 L1545.12 133.713 L1545.12 128.319 Z\" fill=\"#000000\" fill-rule=\"evenodd\" fill-opacity=\"1\" /><path clip-path=\"url(#clip540)\" d=\"M1580.46 150.31 L1580.46 152.393 L1560.88 152.393 Q1561.16 156.791 1563.52 159.106 Q1565.9 161.398 1570.14 161.398 Q1572.59 161.398 1574.89 160.796 Q1577.2 160.194 1579.47 158.99 L1579.47 163.018 Q1577.18 163.99 1574.77 164.5 Q1572.36 165.009 1569.89 165.009 Q1563.68 165.009 1560.05 161.398 Q1556.44 157.787 1556.44 151.629 Q1556.44 145.264 1559.86 141.537 Q1563.31 137.787 1569.14 137.787 Q1574.38 137.787 1577.41 141.166 Q1580.46 144.523 1580.46 150.31 M1576.2 149.06 Q1576.16 145.565 1574.24 143.481 Q1572.34 141.398 1569.19 141.398 Q1565.63 141.398 1563.47 143.412 Q1561.34 145.426 1561.02 149.083 L1576.2 149.06 Z\" fill=\"#000000\" fill-rule=\"evenodd\" fill-opacity=\"1\" /><path clip-path=\"url(#clip540)\" d=\"M1587.45 128.319 L1591.71 128.319 L1591.71 164.338 L1587.45 164.338 L1587.45 128.319 Z\" fill=\"#000000\" fill-rule=\"evenodd\" fill-opacity=\"1\" /><path clip-path=\"url(#clip540)\" d=\"M1610.67 141.398 Q1607.25 141.398 1605.26 144.083 Q1603.26 146.745 1603.26 151.398 Q1603.26 156.051 1605.23 158.736 Q1607.22 161.398 1610.67 161.398 Q1614.07 161.398 1616.07 158.713 Q1618.06 156.027 1618.06 151.398 Q1618.06 146.791 1616.07 144.106 Q1614.07 141.398 1610.67 141.398 M1610.67 137.787 Q1616.23 137.787 1619.4 141.398 Q1622.57 145.009 1622.57 151.398 Q1622.57 157.764 1619.4 161.398 Q1616.23 165.009 1610.67 165.009 Q1605.09 165.009 1601.92 161.398 Q1598.77 157.764 1598.77 151.398 Q1598.77 145.009 1601.92 141.398 Q1605.09 137.787 1610.67 137.787 Z\" fill=\"#000000\" fill-rule=\"evenodd\" fill-opacity=\"1\" /><path clip-path=\"url(#clip540)\" d=\"M1649.82 143.389 Q1651.41 140.518 1653.63 139.153 Q1655.86 137.787 1658.87 137.787 Q1662.92 137.787 1665.12 140.634 Q1667.32 143.458 1667.32 148.689 L1667.32 164.338 L1663.03 164.338 L1663.03 148.828 Q1663.03 145.102 1661.71 143.296 Q1660.39 141.49 1657.69 141.49 Q1654.38 141.49 1652.45 143.69 Q1650.53 145.889 1650.53 149.685 L1650.53 164.338 L1646.25 164.338 L1646.25 148.828 Q1646.25 145.078 1644.93 143.296 Q1643.61 141.49 1640.86 141.49 Q1637.59 141.49 1635.67 143.713 Q1633.75 145.912 1633.75 149.685 L1633.75 164.338 L1629.47 164.338 L1629.47 138.412 L1633.75 138.412 L1633.75 142.44 Q1635.21 140.055 1637.25 138.921 Q1639.28 137.787 1642.08 137.787 Q1644.91 137.787 1646.88 139.222 Q1648.87 140.657 1649.82 143.389 Z\" fill=\"#000000\" fill-rule=\"evenodd\" fill-opacity=\"1\" /><path clip-path=\"url(#clip540)\" d=\"M1675.81 138.412 L1680.07 138.412 L1680.07 164.338 L1675.81 164.338 L1675.81 138.412 M1675.81 128.319 L1680.07 128.319 L1680.07 133.713 L1675.81 133.713 L1675.81 128.319 Z\" fill=\"#000000\" fill-rule=\"evenodd\" fill-opacity=\"1\" /><path clip-path=\"url(#clip540)\" d=\"M1700.76 151.305 Q1695.6 151.305 1693.61 152.486 Q1691.62 153.666 1691.62 156.514 Q1691.62 158.782 1693.1 160.125 Q1694.61 161.444 1697.18 161.444 Q1700.72 161.444 1702.85 158.944 Q1705 156.421 1705 152.254 L1705 151.305 L1700.76 151.305 M1709.26 149.546 L1709.26 164.338 L1705 164.338 L1705 160.402 Q1703.54 162.763 1701.37 163.898 Q1699.19 165.009 1696.04 165.009 Q1692.06 165.009 1689.7 162.787 Q1687.36 160.541 1687.36 156.791 Q1687.36 152.416 1690.28 150.194 Q1693.22 147.972 1699.03 147.972 L1705 147.972 L1705 147.555 Q1705 144.615 1703.06 143.018 Q1701.13 141.398 1697.64 141.398 Q1695.42 141.398 1693.31 141.93 Q1691.2 142.463 1689.26 143.527 L1689.26 139.592 Q1691.6 138.69 1693.8 138.25 Q1696 137.787 1698.08 137.787 Q1703.7 137.787 1706.48 140.703 Q1709.26 143.62 1709.26 149.546 Z\" fill=\"#000000\" fill-rule=\"evenodd\" fill-opacity=\"1\" /><path clip-path=\"url(#clip540)\" d=\"M1739.58 148.689 L1739.58 164.338 L1735.32 164.338 L1735.32 148.828 Q1735.32 145.148 1733.89 143.319 Q1732.45 141.49 1729.58 141.49 Q1726.13 141.49 1724.14 143.69 Q1722.15 145.889 1722.15 149.685 L1722.15 164.338 L1717.87 164.338 L1717.87 138.412 L1722.15 138.412 L1722.15 142.44 Q1723.68 140.102 1725.74 138.944 Q1727.82 137.787 1730.53 137.787 Q1735 137.787 1737.29 140.565 Q1739.58 143.319 1739.58 148.689 Z\" fill=\"#000000\" fill-rule=\"evenodd\" fill-opacity=\"1\" /><path clip-path=\"url(#clip540)\" d=\"M1770.25 150.31 L1770.25 152.393 L1750.67 152.393 Q1750.95 156.791 1753.31 159.106 Q1755.69 161.398 1759.93 161.398 Q1762.38 161.398 1764.68 160.796 Q1766.99 160.194 1769.26 158.99 L1769.26 163.018 Q1766.97 163.99 1764.56 164.5 Q1762.15 165.009 1759.68 165.009 Q1753.47 165.009 1749.84 161.398 Q1746.23 157.787 1746.23 151.629 Q1746.23 145.264 1749.65 141.537 Q1753.1 137.787 1758.94 137.787 Q1764.17 137.787 1767.2 141.166 Q1770.25 144.523 1770.25 150.31 M1766 149.06 Q1765.95 145.565 1764.03 143.481 Q1762.13 141.398 1758.98 141.398 Q1755.42 141.398 1753.26 143.412 Q1751.13 145.426 1750.81 149.083 L1766 149.06 Z\" fill=\"#000000\" fill-rule=\"evenodd\" fill-opacity=\"1\" /><path clip-path=\"url(#clip540)\" d=\"M1797.43 143.389 Q1799.03 140.518 1801.25 139.153 Q1803.47 137.787 1806.48 137.787 Q1810.53 137.787 1812.73 140.634 Q1814.93 143.458 1814.93 148.689 L1814.93 164.338 L1810.65 164.338 L1810.65 148.828 Q1810.65 145.102 1809.33 143.296 Q1808.01 141.49 1805.3 141.49 Q1801.99 141.49 1800.07 143.69 Q1798.15 145.889 1798.15 149.685 L1798.15 164.338 L1793.87 164.338 L1793.87 148.828 Q1793.87 145.078 1792.55 143.296 Q1791.23 141.49 1788.47 141.49 Q1785.21 141.49 1783.29 143.713 Q1781.37 145.912 1781.37 149.685 L1781.37 164.338 L1777.08 164.338 L1777.08 138.412 L1781.37 138.412 L1781.37 142.44 Q1782.82 140.055 1784.86 138.921 Q1786.9 137.787 1789.7 137.787 Q1792.52 137.787 1794.49 139.222 Q1796.48 140.657 1797.43 143.389 Z\" fill=\"#000000\" fill-rule=\"evenodd\" fill-opacity=\"1\" /><path clip-path=\"url(#clip540)\" d=\"M1842.71 131.051 L1842.71 138.412 L1851.48 138.412 L1851.48 141.722 L1842.71 141.722 L1842.71 155.796 Q1842.71 158.967 1843.56 159.87 Q1844.44 160.773 1847.11 160.773 L1851.48 160.773 L1851.48 164.338 L1847.11 164.338 Q1842.18 164.338 1840.3 162.509 Q1838.43 160.657 1838.43 155.796 L1838.43 141.722 L1835.3 141.722 L1835.3 138.412 L1838.43 138.412 L1838.43 131.051 L1842.71 131.051 Z\" fill=\"#000000\" fill-rule=\"evenodd\" fill-opacity=\"1\" /><path clip-path=\"url(#clip540)\" d=\"M1872.11 142.393 Q1871.39 141.977 1870.53 141.791 Q1869.7 141.583 1868.68 141.583 Q1865.07 141.583 1863.12 143.944 Q1861.2 146.282 1861.2 150.68 L1861.2 164.338 L1856.92 164.338 L1856.92 138.412 L1861.2 138.412 L1861.2 142.44 Q1862.55 140.078 1864.7 138.944 Q1866.85 137.787 1869.93 137.787 Q1870.37 137.787 1870.9 137.856 Q1871.43 137.903 1872.08 138.018 L1872.11 142.393 Z\" fill=\"#000000\" fill-rule=\"evenodd\" fill-opacity=\"1\" /><path clip-path=\"url(#clip540)\" d=\"M1874.72 138.412 L1894.95 138.412 L1894.95 142.301 L1878.93 160.935 L1894.95 160.935 L1894.95 164.338 L1874.14 164.338 L1874.14 160.449 L1890.16 141.815 L1874.72 141.815 L1874.72 138.412 Z\" fill=\"#000000\" fill-rule=\"evenodd\" fill-opacity=\"1\" /><path clip-path=\"url(#clip540)\" d=\"M1923.63 150.31 L1923.63 152.393 L1904.05 152.393 Q1904.33 156.791 1906.69 159.106 Q1909.07 161.398 1913.31 161.398 Q1915.76 161.398 1918.05 160.796 Q1920.37 160.194 1922.64 158.99 L1922.64 163.018 Q1920.35 163.99 1917.94 164.5 Q1915.53 165.009 1913.05 165.009 Q1906.85 165.009 1903.22 161.398 Q1899.61 157.787 1899.61 151.629 Q1899.61 145.264 1903.03 141.537 Q1906.48 137.787 1912.31 137.787 Q1917.55 137.787 1920.58 141.166 Q1923.63 144.523 1923.63 150.31 M1919.37 149.06 Q1919.33 145.565 1917.41 143.481 Q1915.51 141.398 1912.36 141.398 Q1908.8 141.398 1906.64 143.412 Q1904.51 145.426 1904.19 149.083 L1919.37 149.06 Z\" fill=\"#000000\" fill-rule=\"evenodd\" fill-opacity=\"1\" /><path clip-path=\"url(#clip540)\" d=\"M1949.28 139.407 L1949.28 143.389 Q1947.48 142.393 1945.65 141.907 Q1943.84 141.398 1941.99 141.398 Q1937.85 141.398 1935.55 144.037 Q1933.26 146.652 1933.26 151.398 Q1933.26 156.143 1935.55 158.782 Q1937.85 161.398 1941.99 161.398 Q1943.84 161.398 1945.65 160.912 Q1947.48 160.402 1949.28 159.407 L1949.28 163.342 Q1947.5 164.176 1945.58 164.592 Q1943.68 165.009 1941.53 165.009 Q1935.67 165.009 1932.22 161.328 Q1928.77 157.648 1928.77 151.398 Q1928.77 145.055 1932.24 141.421 Q1935.74 137.787 1941.8 137.787 Q1943.77 137.787 1945.65 138.203 Q1947.52 138.597 1949.28 139.407 Z\" fill=\"#000000\" fill-rule=\"evenodd\" fill-opacity=\"1\" /><path clip-path=\"url(#clip540)\" d=\"M1956.69 138.412 L1960.95 138.412 L1960.95 164.338 L1956.69 164.338 L1956.69 138.412 M1956.69 128.319 L1960.95 128.319 L1960.95 133.713 L1956.69 133.713 L1956.69 128.319 Z\" fill=\"#000000\" fill-rule=\"evenodd\" fill-opacity=\"1\" /><path clip-path=\"url(#clip540)\" d=\"M1992.04 150.31 L1992.04 152.393 L1972.45 152.393 Q1972.73 156.791 1975.09 159.106 Q1977.48 161.398 1981.71 161.398 Q1984.17 161.398 1986.46 160.796 Q1988.77 160.194 1991.04 158.99 L1991.04 163.018 Q1988.75 163.99 1986.34 164.5 Q1983.93 165.009 1981.46 165.009 Q1975.25 165.009 1971.62 161.398 Q1968.01 157.787 1968.01 151.629 Q1968.01 145.264 1971.43 141.537 Q1974.88 137.787 1980.72 137.787 Q1985.95 137.787 1988.98 141.166 Q1992.04 144.523 1992.04 150.31 M1987.78 149.06 Q1987.73 145.565 1985.81 143.481 Q1983.91 141.398 1980.76 141.398 Q1977.2 141.398 1975.05 143.412 Q1972.92 145.426 1972.59 149.083 L1987.78 149.06 Z\" fill=\"#000000\" fill-rule=\"evenodd\" fill-opacity=\"1\" /><path clip-path=\"url(#clip540)\" d=\"M2016.09 151.074 Q2016.09 146.444 2014.17 143.898 Q2012.27 141.352 2008.82 141.352 Q2005.39 141.352 2003.47 143.898 Q2001.57 146.444 2001.57 151.074 Q2001.57 155.68 2003.47 158.226 Q2005.39 160.773 2008.82 160.773 Q2012.27 160.773 2014.17 158.226 Q2016.09 155.68 2016.09 151.074 M2020.35 161.12 Q2020.35 167.74 2017.41 170.958 Q2014.47 174.199 2008.4 174.199 Q2006.16 174.199 2004.17 173.851 Q2002.17 173.527 2000.3 172.833 L2000.3 168.689 Q2002.17 169.708 2004 170.194 Q2005.83 170.68 2007.73 170.68 Q2011.92 170.68 2014 168.481 Q2016.09 166.305 2016.09 161.884 L2016.09 159.777 Q2014.77 162.069 2012.71 163.203 Q2010.65 164.338 2007.78 164.338 Q2003.01 164.338 2000.09 160.703 Q1997.17 157.069 1997.17 151.074 Q1997.17 145.055 2000.09 141.421 Q2003.01 137.787 2007.78 137.787 Q2010.65 137.787 2012.71 138.921 Q2014.77 140.055 2016.09 142.347 L2016.09 138.412 L2020.35 138.412 L2020.35 161.12 Z\" fill=\"#000000\" fill-rule=\"evenodd\" fill-opacity=\"1\" /><path clip-path=\"url(#clip540)\" d=\"M2039.17 141.398 Q2035.74 141.398 2033.75 144.083 Q2031.76 146.745 2031.76 151.398 Q2031.76 156.051 2033.73 158.736 Q2035.72 161.398 2039.17 161.398 Q2042.57 161.398 2044.56 158.713 Q2046.55 156.027 2046.55 151.398 Q2046.55 146.791 2044.56 144.106 Q2042.57 141.398 2039.17 141.398 M2039.17 137.787 Q2044.72 137.787 2047.89 141.398 Q2051.06 145.009 2051.06 151.398 Q2051.06 157.764 2047.89 161.398 Q2044.72 165.009 2039.17 165.009 Q2033.59 165.009 2030.42 161.398 Q2027.27 157.764 2027.27 151.398 Q2027.27 145.009 2030.42 141.398 Q2033.59 137.787 2039.17 137.787 Z\" fill=\"#000000\" fill-rule=\"evenodd\" fill-opacity=\"1\" /><path clip-path=\"url(#clip540)\" d=\"M2089.72 139.176 L2089.72 143.203 Q2087.91 142.277 2085.97 141.815 Q2084.03 141.352 2081.94 141.352 Q2078.77 141.352 2077.17 142.324 Q2075.6 143.296 2075.6 145.24 Q2075.6 146.722 2076.73 147.578 Q2077.87 148.412 2081.29 149.176 L2082.75 149.5 Q2087.29 150.472 2089.19 152.254 Q2091.11 154.014 2091.11 157.185 Q2091.11 160.796 2088.24 162.902 Q2085.39 165.009 2080.39 165.009 Q2078.31 165.009 2076.04 164.592 Q2073.79 164.199 2071.29 163.388 L2071.29 158.99 Q2073.66 160.217 2075.95 160.842 Q2078.24 161.444 2080.48 161.444 Q2083.49 161.444 2085.11 160.426 Q2086.73 159.384 2086.73 157.509 Q2086.73 155.773 2085.55 154.847 Q2084.4 153.921 2080.44 153.064 L2078.96 152.717 Q2075 151.884 2073.24 150.171 Q2071.48 148.435 2071.48 145.426 Q2071.48 141.768 2074.07 139.778 Q2076.66 137.787 2081.43 137.787 Q2083.79 137.787 2085.88 138.134 Q2087.96 138.481 2089.72 139.176 Z\" fill=\"#000000\" fill-rule=\"evenodd\" fill-opacity=\"1\" /><path clip-path=\"url(#clip540)\" d=\"M2102.1 131.051 L2102.1 138.412 L2110.88 138.412 L2110.88 141.722 L2102.1 141.722 L2102.1 155.796 Q2102.1 158.967 2102.96 159.87 Q2103.84 160.773 2106.5 160.773 L2110.88 160.773 L2110.88 164.338 L2106.5 164.338 Q2101.57 164.338 2099.7 162.509 Q2097.82 160.657 2097.82 155.796 L2097.82 141.722 L2094.7 141.722 L2094.7 138.412 L2097.82 138.412 L2097.82 131.051 L2102.1 131.051 Z\" fill=\"#000000\" fill-rule=\"evenodd\" fill-opacity=\"1\" /><path clip-path=\"url(#clip540)\" d=\"M2126.53 141.398 Q2123.1 141.398 2121.11 144.083 Q2119.12 146.745 2119.12 151.398 Q2119.12 156.051 2121.09 158.736 Q2123.08 161.398 2126.53 161.398 Q2129.93 161.398 2131.92 158.713 Q2133.91 156.027 2133.91 151.398 Q2133.91 146.791 2131.92 144.106 Q2129.93 141.398 2126.53 141.398 M2126.53 137.787 Q2132.08 137.787 2135.25 141.398 Q2138.42 145.009 2138.42 151.398 Q2138.42 157.764 2135.25 161.398 Q2132.08 165.009 2126.53 165.009 Q2120.95 165.009 2117.78 161.398 Q2114.63 157.764 2114.63 151.398 Q2114.63 145.009 2117.78 141.398 Q2120.95 137.787 2126.53 137.787 Z\" fill=\"#000000\" fill-rule=\"evenodd\" fill-opacity=\"1\" /><path clip-path=\"url(#clip540)\" d=\"M2149.6 160.449 L2149.6 174.199 L2145.32 174.199 L2145.32 138.412 L2149.6 138.412 L2149.6 142.347 Q2150.95 140.032 2152.98 138.921 Q2155.04 137.787 2157.89 137.787 Q2162.61 137.787 2165.55 141.537 Q2168.52 145.287 2168.52 151.398 Q2168.52 157.509 2165.55 161.259 Q2162.61 165.009 2157.89 165.009 Q2155.04 165.009 2152.98 163.898 Q2150.95 162.763 2149.6 160.449 M2164.09 151.398 Q2164.09 146.699 2162.15 144.037 Q2160.23 141.352 2156.85 141.352 Q2153.47 141.352 2151.53 144.037 Q2149.6 146.699 2149.6 151.398 Q2149.6 156.097 2151.53 158.782 Q2153.47 161.444 2156.85 161.444 Q2160.23 161.444 2162.15 158.782 Q2164.09 156.097 2164.09 151.398 Z\" fill=\"#000000\" fill-rule=\"evenodd\" fill-opacity=\"1\" /><path clip-path=\"url(#clip540)\" d=\"M2197.13 148.689 L2197.13 164.338 L2192.87 164.338 L2192.87 148.828 Q2192.87 145.148 2191.43 143.319 Q2190 141.49 2187.13 141.49 Q2183.68 141.49 2181.69 143.69 Q2179.7 145.889 2179.7 149.685 L2179.7 164.338 L2175.41 164.338 L2175.41 138.412 L2179.7 138.412 L2179.7 142.44 Q2181.22 140.102 2183.28 138.944 Q2185.37 137.787 2188.08 137.787 Q2192.54 137.787 2194.84 140.565 Q2197.13 143.319 2197.13 148.689 Z\" fill=\"#000000\" fill-rule=\"evenodd\" fill-opacity=\"1\" /><path clip-path=\"url(#clip540)\" d=\"M2205.62 138.412 L2209.88 138.412 L2209.88 164.338 L2205.62 164.338 L2205.62 138.412 M2205.62 128.319 L2209.88 128.319 L2209.88 133.713 L2205.62 133.713 L2205.62 128.319 Z\" fill=\"#000000\" fill-rule=\"evenodd\" fill-opacity=\"1\" /><path clip-path=\"url(#clip540)\" d=\"M2230.58 151.305 Q2225.41 151.305 2223.42 152.486 Q2221.43 153.666 2221.43 156.514 Q2221.43 158.782 2222.91 160.125 Q2224.42 161.444 2226.99 161.444 Q2230.53 161.444 2232.66 158.944 Q2234.81 156.421 2234.81 152.254 L2234.81 151.305 L2230.58 151.305 M2239.07 149.546 L2239.07 164.338 L2234.81 164.338 L2234.81 160.402 Q2233.35 162.763 2231.18 163.898 Q2229 165.009 2225.85 165.009 Q2221.87 165.009 2219.51 162.787 Q2217.17 160.541 2217.17 156.791 Q2217.17 152.416 2220.09 150.194 Q2223.03 147.972 2228.84 147.972 L2234.81 147.972 L2234.81 147.555 Q2234.81 144.615 2232.87 143.018 Q2230.95 141.398 2227.45 141.398 Q2225.23 141.398 2223.12 141.93 Q2221.02 142.463 2219.07 143.527 L2219.07 139.592 Q2221.41 138.69 2223.61 138.25 Q2225.81 137.787 2227.89 137.787 Q2233.52 137.787 2236.29 140.703 Q2239.07 143.62 2239.07 149.546 Z\" fill=\"#000000\" fill-rule=\"evenodd\" fill-opacity=\"1\" /><circle clip-path=\"url(#clip540)\" cx=\"1068.38\" cy=\"198.898\" r=\"23.04\" fill=\"#e26f46\" fill-rule=\"evenodd\" fill-opacity=\"1\" stroke=\"#000000\" stroke-opacity=\"1\" stroke-width=\"5.12\"/>\n",
       "<path clip-path=\"url(#clip540)\" d=\"M1178.24 194.187 L1178.24 180.159 L1182.5 180.159 L1182.5 216.178 L1178.24 216.178 L1178.24 212.289 Q1176.9 214.603 1174.84 215.738 Q1172.8 216.849 1169.93 216.849 Q1165.23 216.849 1162.27 213.099 Q1159.33 209.349 1159.33 203.238 Q1159.33 197.127 1162.27 193.377 Q1165.23 189.627 1169.93 189.627 Q1172.8 189.627 1174.84 190.761 Q1176.9 191.872 1178.24 194.187 M1163.73 203.238 Q1163.73 207.937 1165.65 210.622 Q1167.6 213.284 1170.98 213.284 Q1174.35 213.284 1176.3 210.622 Q1178.24 207.937 1178.24 203.238 Q1178.24 198.539 1176.3 195.877 Q1174.35 193.192 1170.98 193.192 Q1167.6 193.192 1165.65 195.877 Q1163.73 198.539 1163.73 203.238 Z\" fill=\"#000000\" fill-rule=\"evenodd\" fill-opacity=\"1\" /><path clip-path=\"url(#clip540)\" d=\"M1203.06 203.145 Q1197.9 203.145 1195.91 204.326 Q1193.91 205.506 1193.91 208.354 Q1193.91 210.622 1195.4 211.965 Q1196.9 213.284 1199.47 213.284 Q1203.01 213.284 1205.14 210.784 Q1207.29 208.261 1207.29 204.094 L1207.29 203.145 L1203.06 203.145 M1211.55 201.386 L1211.55 216.178 L1207.29 216.178 L1207.29 212.242 Q1205.84 214.603 1203.66 215.738 Q1201.48 216.849 1198.34 216.849 Q1194.35 216.849 1191.99 214.627 Q1189.66 212.381 1189.66 208.631 Q1189.66 204.256 1192.57 202.034 Q1195.51 199.812 1201.32 199.812 L1207.29 199.812 L1207.29 199.395 Q1207.29 196.455 1205.35 194.858 Q1203.43 193.238 1199.93 193.238 Q1197.71 193.238 1195.6 193.77 Q1193.5 194.303 1191.55 195.367 L1191.55 191.432 Q1193.89 190.53 1196.09 190.09 Q1198.29 189.627 1200.37 189.627 Q1206 189.627 1208.78 192.543 Q1211.55 195.46 1211.55 201.386 Z\" fill=\"#000000\" fill-rule=\"evenodd\" fill-opacity=\"1\" /><path clip-path=\"url(#clip540)\" d=\"M1241.88 200.529 L1241.88 216.178 L1237.62 216.178 L1237.62 200.668 Q1237.62 196.988 1236.18 195.159 Q1234.75 193.33 1231.88 193.33 Q1228.43 193.33 1226.44 195.53 Q1224.45 197.729 1224.45 201.525 L1224.45 216.178 L1220.16 216.178 L1220.16 190.252 L1224.45 190.252 L1224.45 194.28 Q1225.98 191.942 1228.04 190.784 Q1230.12 189.627 1232.83 189.627 Q1237.29 189.627 1239.59 192.405 Q1241.88 195.159 1241.88 200.529 Z\" fill=\"#000000\" fill-rule=\"evenodd\" fill-opacity=\"1\" /><path clip-path=\"url(#clip540)\" d=\"M1272.55 202.15 L1272.55 204.233 L1252.97 204.233 Q1253.24 208.631 1255.6 210.946 Q1257.99 213.238 1262.22 213.238 Q1264.68 213.238 1266.97 212.636 Q1269.28 212.034 1271.55 210.83 L1271.55 214.858 Q1269.26 215.83 1266.85 216.34 Q1264.45 216.849 1261.97 216.849 Q1255.77 216.849 1252.13 213.238 Q1248.52 209.627 1248.52 203.469 Q1248.52 197.104 1251.95 193.377 Q1255.4 189.627 1261.23 189.627 Q1266.46 189.627 1269.49 193.006 Q1272.55 196.363 1272.55 202.15 M1268.29 200.9 Q1268.24 197.405 1266.32 195.321 Q1264.42 193.238 1261.28 193.238 Q1257.71 193.238 1255.56 195.252 Q1253.43 197.266 1253.1 200.923 L1268.29 200.9 Z\" fill=\"#000000\" fill-rule=\"evenodd\" fill-opacity=\"1\" /><path clip-path=\"url(#clip540)\" d=\"M1298.73 212.289 L1298.73 226.039 L1294.45 226.039 L1294.45 190.252 L1298.73 190.252 L1298.73 194.187 Q1300.07 191.872 1302.11 190.761 Q1304.17 189.627 1307.02 189.627 Q1311.74 189.627 1314.68 193.377 Q1317.64 197.127 1317.64 203.238 Q1317.64 209.349 1314.68 213.099 Q1311.74 216.849 1307.02 216.849 Q1304.17 216.849 1302.11 215.738 Q1300.07 214.603 1298.73 212.289 M1313.22 203.238 Q1313.22 198.539 1311.28 195.877 Q1309.35 193.192 1305.97 193.192 Q1302.59 193.192 1300.65 195.877 Q1298.73 198.539 1298.73 203.238 Q1298.73 207.937 1300.65 210.622 Q1302.59 213.284 1305.97 213.284 Q1309.35 213.284 1311.28 210.622 Q1313.22 207.937 1313.22 203.238 Z\" fill=\"#000000\" fill-rule=\"evenodd\" fill-opacity=\"1\" /><path clip-path=\"url(#clip540)\" d=\"M1324.26 205.946 L1324.26 190.252 L1328.52 190.252 L1328.52 205.784 Q1328.52 209.465 1329.96 211.316 Q1331.39 213.145 1334.26 213.145 Q1337.71 213.145 1339.7 210.946 Q1341.72 208.747 1341.72 204.951 L1341.72 190.252 L1345.97 190.252 L1345.97 216.178 L1341.72 216.178 L1341.72 212.196 Q1340.16 214.557 1338.1 215.715 Q1336.07 216.849 1333.36 216.849 Q1328.89 216.849 1326.58 214.071 Q1324.26 211.293 1324.26 205.946 M1334.98 189.627 L1334.98 189.627 Z\" fill=\"#000000\" fill-rule=\"evenodd\" fill-opacity=\"1\" /><path clip-path=\"url(#clip540)\" d=\"M1376.3 200.529 L1376.3 216.178 L1372.04 216.178 L1372.04 200.668 Q1372.04 196.988 1370.6 195.159 Q1369.17 193.33 1366.3 193.33 Q1362.85 193.33 1360.86 195.53 Q1358.87 197.729 1358.87 201.525 L1358.87 216.178 L1354.59 216.178 L1354.59 190.252 L1358.87 190.252 L1358.87 194.28 Q1360.4 191.942 1362.46 190.784 Q1364.54 189.627 1367.25 189.627 Q1371.71 189.627 1374.01 192.405 Q1376.3 195.159 1376.3 200.529 Z\" fill=\"#000000\" fill-rule=\"evenodd\" fill-opacity=\"1\" /><path clip-path=\"url(#clip540)\" d=\"M1384.63 180.159 L1388.91 180.159 L1388.91 201.432 L1401.62 190.252 L1407.06 190.252 L1393.31 202.381 L1407.64 216.178 L1402.09 216.178 L1388.91 203.516 L1388.91 216.178 L1384.63 216.178 L1384.63 180.159 Z\" fill=\"#000000\" fill-rule=\"evenodd\" fill-opacity=\"1\" /><path clip-path=\"url(#clip540)\" d=\"M1416.46 182.891 L1416.46 190.252 L1425.23 190.252 L1425.23 193.562 L1416.46 193.562 L1416.46 207.636 Q1416.46 210.807 1417.32 211.71 Q1418.2 212.613 1420.86 212.613 L1425.23 212.613 L1425.23 216.178 L1420.86 216.178 Q1415.93 216.178 1414.05 214.349 Q1412.18 212.497 1412.18 207.636 L1412.18 193.562 L1409.05 193.562 L1409.05 190.252 L1412.18 190.252 L1412.18 182.891 L1416.46 182.891 Z\" fill=\"#000000\" fill-rule=\"evenodd\" fill-opacity=\"1\" /><path clip-path=\"url(#clip540)\" d=\"M1441.62 218.585 Q1439.82 223.215 1438.1 224.627 Q1436.39 226.039 1433.52 226.039 L1430.12 226.039 L1430.12 222.474 L1432.62 222.474 Q1434.38 222.474 1435.35 221.64 Q1436.32 220.807 1437.5 217.705 L1438.27 215.761 L1427.78 190.252 L1432.29 190.252 L1440.4 210.529 L1448.5 190.252 L1453.01 190.252 L1441.62 218.585 Z\" fill=\"#000000\" fill-rule=\"evenodd\" fill-opacity=\"1\" /></svg>\n"
      ]
     },
     "execution_count": 27,
     "metadata": {},
     "output_type": "execute_result"
    }
   ],
   "source": [
    "plot(fit_poly_3,  extrema(xs)..., label=\"aproksymacja wielomianem trzeciego stopnia\")\n",
    "# ! -dodanie do tego samego wykresu punktów wg ktorych aproksymowalismy\n",
    "scatter!(xs, ys, label =\"dane punkty\")"
   ]
  },
  {
   "cell_type": "markdown",
   "metadata": {},
   "source": [
    "### Wielomiany Czebyszewa w pakiecie Polynomials"
   ]
  },
  {
   "cell_type": "code",
   "execution_count": 28,
   "metadata": {},
   "outputs": [
    {
     "data": {
      "text/html": [
       "1⋅T_2(x)"
      ],
      "text/latex": [
       "$1⋅T_2(x)$"
      ],
      "text/plain": [
       "ChebyshevT(1⋅T_2(x))"
      ]
     },
     "execution_count": 28,
     "metadata": {},
     "output_type": "execute_result"
    }
   ],
   "source": [
    "# podajemy tablicę współczynników, gdzie wielomiany Czebyszewa są wielomianami bazowymi np dla T2(x)\n",
    "t2 = ChebyshevT([0, 0, 1])"
   ]
  },
  {
   "cell_type": "code",
   "execution_count": 29,
   "metadata": {},
   "outputs": [
    {
     "data": {
      "image/svg+xml": [
       "<?xml version=\"1.0\" encoding=\"utf-8\"?>\n",
       "<svg xmlns=\"http://www.w3.org/2000/svg\" xmlns:xlink=\"http://www.w3.org/1999/xlink\" width=\"600\" height=\"400\" viewBox=\"0 0 2400 1600\">\n",
       "<defs>\n",
       "  <clipPath id=\"clip580\">\n",
       "    <rect x=\"0\" y=\"0\" width=\"2400\" height=\"1600\"/>\n",
       "  </clipPath>\n",
       "</defs>\n",
       "<path clip-path=\"url(#clip580)\" d=\"\n",
       "M0 1600 L2400 1600 L2400 0 L0 0  Z\n",
       "  \" fill=\"#ffffff\" fill-rule=\"evenodd\" fill-opacity=\"1\"/>\n",
       "<defs>\n",
       "  <clipPath id=\"clip581\">\n",
       "    <rect x=\"480\" y=\"0\" width=\"1681\" height=\"1600\"/>\n",
       "  </clipPath>\n",
       "</defs>\n",
       "<path clip-path=\"url(#clip580)\" d=\"\n",
       "M193.936 1486.45 L2352.76 1486.45 L2352.76 47.2441 L193.936 47.2441  Z\n",
       "  \" fill=\"#ffffff\" fill-rule=\"evenodd\" fill-opacity=\"1\"/>\n",
       "<defs>\n",
       "  <clipPath id=\"clip582\">\n",
       "    <rect x=\"193\" y=\"47\" width=\"2160\" height=\"1440\"/>\n",
       "  </clipPath>\n",
       "</defs>\n",
       "<polyline clip-path=\"url(#clip582)\" style=\"stroke:#000000; stroke-linecap:round; stroke-linejoin:round; stroke-width:2; stroke-opacity:0.1; fill:none\" points=\"\n",
       "  193.936,1486.45 193.936,47.2441 \n",
       "  \"/>\n",
       "<polyline clip-path=\"url(#clip582)\" style=\"stroke:#000000; stroke-linecap:round; stroke-linejoin:round; stroke-width:2; stroke-opacity:0.1; fill:none\" points=\"\n",
       "  733.641,1486.45 733.641,47.2441 \n",
       "  \"/>\n",
       "<polyline clip-path=\"url(#clip582)\" style=\"stroke:#000000; stroke-linecap:round; stroke-linejoin:round; stroke-width:2; stroke-opacity:0.1; fill:none\" points=\"\n",
       "  1273.35,1486.45 1273.35,47.2441 \n",
       "  \"/>\n",
       "<polyline clip-path=\"url(#clip582)\" style=\"stroke:#000000; stroke-linecap:round; stroke-linejoin:round; stroke-width:2; stroke-opacity:0.1; fill:none\" points=\"\n",
       "  1813.05,1486.45 1813.05,47.2441 \n",
       "  \"/>\n",
       "<polyline clip-path=\"url(#clip582)\" style=\"stroke:#000000; stroke-linecap:round; stroke-linejoin:round; stroke-width:2; stroke-opacity:0.1; fill:none\" points=\"\n",
       "  2352.76,1486.45 2352.76,47.2441 \n",
       "  \"/>\n",
       "<polyline clip-path=\"url(#clip580)\" style=\"stroke:#000000; stroke-linecap:round; stroke-linejoin:round; stroke-width:4; stroke-opacity:1; fill:none\" points=\"\n",
       "  193.936,1486.45 2352.76,1486.45 \n",
       "  \"/>\n",
       "<polyline clip-path=\"url(#clip580)\" style=\"stroke:#000000; stroke-linecap:round; stroke-linejoin:round; stroke-width:4; stroke-opacity:1; fill:none\" points=\"\n",
       "  193.936,1486.45 193.936,1467.55 \n",
       "  \"/>\n",
       "<polyline clip-path=\"url(#clip580)\" style=\"stroke:#000000; stroke-linecap:round; stroke-linejoin:round; stroke-width:4; stroke-opacity:1; fill:none\" points=\"\n",
       "  733.641,1486.45 733.641,1467.55 \n",
       "  \"/>\n",
       "<polyline clip-path=\"url(#clip580)\" style=\"stroke:#000000; stroke-linecap:round; stroke-linejoin:round; stroke-width:4; stroke-opacity:1; fill:none\" points=\"\n",
       "  1273.35,1486.45 1273.35,1467.55 \n",
       "  \"/>\n",
       "<polyline clip-path=\"url(#clip580)\" style=\"stroke:#000000; stroke-linecap:round; stroke-linejoin:round; stroke-width:4; stroke-opacity:1; fill:none\" points=\"\n",
       "  1813.05,1486.45 1813.05,1467.55 \n",
       "  \"/>\n",
       "<polyline clip-path=\"url(#clip580)\" style=\"stroke:#000000; stroke-linecap:round; stroke-linejoin:round; stroke-width:4; stroke-opacity:1; fill:none\" points=\"\n",
       "  2352.76,1486.45 2352.76,1467.55 \n",
       "  \"/>\n",
       "<path clip-path=\"url(#clip580)\" d=\"M140.464 1532.02 L170.14 1532.02 L170.14 1535.95 L140.464 1535.95 L140.464 1532.02 Z\" fill=\"#000000\" fill-rule=\"evenodd\" fill-opacity=\"1\" /><path clip-path=\"url(#clip580)\" d=\"M181.043 1544.91 L188.681 1544.91 L188.681 1518.55 L180.371 1520.21 L180.371 1515.95 L188.635 1514.29 L193.311 1514.29 L193.311 1544.91 L200.95 1544.91 L200.95 1548.85 L181.043 1548.85 L181.043 1544.91 Z\" fill=\"#000000\" fill-rule=\"evenodd\" fill-opacity=\"1\" /><path clip-path=\"url(#clip580)\" d=\"M210.394 1542.97 L215.278 1542.97 L215.278 1548.85 L210.394 1548.85 L210.394 1542.97 Z\" fill=\"#000000\" fill-rule=\"evenodd\" fill-opacity=\"1\" /><path clip-path=\"url(#clip580)\" d=\"M235.464 1517.37 Q231.852 1517.37 230.024 1520.93 Q228.218 1524.47 228.218 1531.6 Q228.218 1538.71 230.024 1542.27 Q231.852 1545.82 235.464 1545.82 Q239.098 1545.82 240.903 1542.27 Q242.732 1538.71 242.732 1531.6 Q242.732 1524.47 240.903 1520.93 Q239.098 1517.37 235.464 1517.37 M235.464 1513.66 Q241.274 1513.66 244.329 1518.27 Q247.408 1522.85 247.408 1531.6 Q247.408 1540.33 244.329 1544.94 Q241.274 1549.52 235.464 1549.52 Q229.653 1549.52 226.575 1544.94 Q223.519 1540.33 223.519 1531.6 Q223.519 1522.85 226.575 1518.27 Q229.653 1513.66 235.464 1513.66 Z\" fill=\"#000000\" fill-rule=\"evenodd\" fill-opacity=\"1\" /><path clip-path=\"url(#clip580)\" d=\"M680.667 1532.02 L710.342 1532.02 L710.342 1535.95 L680.667 1535.95 L680.667 1532.02 Z\" fill=\"#000000\" fill-rule=\"evenodd\" fill-opacity=\"1\" /><path clip-path=\"url(#clip580)\" d=\"M730.435 1517.37 Q726.824 1517.37 724.995 1520.93 Q723.19 1524.47 723.19 1531.6 Q723.19 1538.71 724.995 1542.27 Q726.824 1545.82 730.435 1545.82 Q734.069 1545.82 735.875 1542.27 Q737.703 1538.71 737.703 1531.6 Q737.703 1524.47 735.875 1520.93 Q734.069 1517.37 730.435 1517.37 M730.435 1513.66 Q736.245 1513.66 739.301 1518.27 Q742.379 1522.85 742.379 1531.6 Q742.379 1540.33 739.301 1544.94 Q736.245 1549.52 730.435 1549.52 Q724.625 1549.52 721.546 1544.94 Q718.491 1540.33 718.491 1531.6 Q718.491 1522.85 721.546 1518.27 Q724.625 1513.66 730.435 1513.66 Z\" fill=\"#000000\" fill-rule=\"evenodd\" fill-opacity=\"1\" /><path clip-path=\"url(#clip580)\" d=\"M750.597 1542.97 L755.481 1542.97 L755.481 1548.85 L750.597 1548.85 L750.597 1542.97 Z\" fill=\"#000000\" fill-rule=\"evenodd\" fill-opacity=\"1\" /><path clip-path=\"url(#clip580)\" d=\"M765.713 1514.29 L784.069 1514.29 L784.069 1518.22 L769.995 1518.22 L769.995 1526.7 Q771.013 1526.35 772.032 1526.19 Q773.05 1526 774.069 1526 Q779.856 1526 783.236 1529.17 Q786.615 1532.34 786.615 1537.76 Q786.615 1543.34 783.143 1546.44 Q779.671 1549.52 773.351 1549.52 Q771.175 1549.52 768.907 1549.15 Q766.662 1548.78 764.254 1548.04 L764.254 1543.34 Q766.338 1544.47 768.56 1545.03 Q770.782 1545.58 773.259 1545.58 Q777.263 1545.58 779.601 1543.48 Q781.939 1541.37 781.939 1537.76 Q781.939 1534.15 779.601 1532.04 Q777.263 1529.94 773.259 1529.94 Q771.384 1529.94 769.509 1530.35 Q767.657 1530.77 765.713 1531.65 L765.713 1514.29 Z\" fill=\"#000000\" fill-rule=\"evenodd\" fill-opacity=\"1\" /><path clip-path=\"url(#clip580)\" d=\"M1250.73 1517.37 Q1247.12 1517.37 1245.29 1520.93 Q1243.49 1524.47 1243.49 1531.6 Q1243.49 1538.71 1245.29 1542.27 Q1247.12 1545.82 1250.73 1545.82 Q1254.36 1545.82 1256.17 1542.27 Q1258 1538.71 1258 1531.6 Q1258 1524.47 1256.17 1520.93 Q1254.36 1517.37 1250.73 1517.37 M1250.73 1513.66 Q1256.54 1513.66 1259.6 1518.27 Q1262.67 1522.85 1262.67 1531.6 Q1262.67 1540.33 1259.6 1544.94 Q1256.54 1549.52 1250.73 1549.52 Q1244.92 1549.52 1241.84 1544.94 Q1238.79 1540.33 1238.79 1531.6 Q1238.79 1522.85 1241.84 1518.27 Q1244.92 1513.66 1250.73 1513.66 Z\" fill=\"#000000\" fill-rule=\"evenodd\" fill-opacity=\"1\" /><path clip-path=\"url(#clip580)\" d=\"M1270.89 1542.97 L1275.78 1542.97 L1275.78 1548.85 L1270.89 1548.85 L1270.89 1542.97 Z\" fill=\"#000000\" fill-rule=\"evenodd\" fill-opacity=\"1\" /><path clip-path=\"url(#clip580)\" d=\"M1295.96 1517.37 Q1292.35 1517.37 1290.52 1520.93 Q1288.72 1524.47 1288.72 1531.6 Q1288.72 1538.71 1290.52 1542.27 Q1292.35 1545.82 1295.96 1545.82 Q1299.6 1545.82 1301.4 1542.27 Q1303.23 1538.71 1303.23 1531.6 Q1303.23 1524.47 1301.4 1520.93 Q1299.6 1517.37 1295.96 1517.37 M1295.96 1513.66 Q1301.77 1513.66 1304.83 1518.27 Q1307.91 1522.85 1307.91 1531.6 Q1307.91 1540.33 1304.83 1544.94 Q1301.77 1549.52 1295.96 1549.52 Q1290.15 1549.52 1287.07 1544.94 Q1284.02 1540.33 1284.02 1531.6 Q1284.02 1522.85 1287.07 1518.27 Q1290.15 1513.66 1295.96 1513.66 Z\" fill=\"#000000\" fill-rule=\"evenodd\" fill-opacity=\"1\" /><path clip-path=\"url(#clip580)\" d=\"M1790.93 1517.37 Q1787.32 1517.37 1785.49 1520.93 Q1783.69 1524.47 1783.69 1531.6 Q1783.69 1538.71 1785.49 1542.27 Q1787.32 1545.82 1790.93 1545.82 Q1794.57 1545.82 1796.37 1542.27 Q1798.2 1538.71 1798.2 1531.6 Q1798.2 1524.47 1796.37 1520.93 Q1794.57 1517.37 1790.93 1517.37 M1790.93 1513.66 Q1796.74 1513.66 1799.8 1518.27 Q1802.88 1522.85 1802.88 1531.6 Q1802.88 1540.33 1799.8 1544.94 Q1796.74 1549.52 1790.93 1549.52 Q1785.12 1549.52 1782.04 1544.94 Q1778.99 1540.33 1778.99 1531.6 Q1778.99 1522.85 1782.04 1518.27 Q1785.12 1513.66 1790.93 1513.66 Z\" fill=\"#000000\" fill-rule=\"evenodd\" fill-opacity=\"1\" /><path clip-path=\"url(#clip580)\" d=\"M1811.09 1542.97 L1815.98 1542.97 L1815.98 1548.85 L1811.09 1548.85 L1811.09 1542.97 Z\" fill=\"#000000\" fill-rule=\"evenodd\" fill-opacity=\"1\" /><path clip-path=\"url(#clip580)\" d=\"M1826.21 1514.29 L1844.57 1514.29 L1844.57 1518.22 L1830.49 1518.22 L1830.49 1526.7 Q1831.51 1526.35 1832.53 1526.19 Q1833.55 1526 1834.57 1526 Q1840.35 1526 1843.73 1529.17 Q1847.11 1532.34 1847.11 1537.76 Q1847.11 1543.34 1843.64 1546.44 Q1840.17 1549.52 1833.85 1549.52 Q1831.67 1549.52 1829.41 1549.15 Q1827.16 1548.78 1824.75 1548.04 L1824.75 1543.34 Q1826.84 1544.47 1829.06 1545.03 Q1831.28 1545.58 1833.76 1545.58 Q1837.76 1545.58 1840.1 1543.48 Q1842.44 1541.37 1842.44 1537.76 Q1842.44 1534.15 1840.1 1532.04 Q1837.76 1529.94 1833.76 1529.94 Q1831.88 1529.94 1830.01 1530.35 Q1828.16 1530.77 1826.21 1531.65 L1826.21 1514.29 Z\" fill=\"#000000\" fill-rule=\"evenodd\" fill-opacity=\"1\" /><path clip-path=\"url(#clip580)\" d=\"M2319.91 1544.91 L2327.55 1544.91 L2327.55 1518.55 L2319.24 1520.21 L2319.24 1515.95 L2327.5 1514.29 L2332.18 1514.29 L2332.18 1544.91 L2339.82 1544.91 L2339.82 1548.85 L2319.91 1548.85 L2319.91 1544.91 Z\" fill=\"#000000\" fill-rule=\"evenodd\" fill-opacity=\"1\" /><path clip-path=\"url(#clip580)\" d=\"M2349.26 1542.97 L2354.14 1542.97 L2354.14 1548.85 L2349.26 1548.85 L2349.26 1542.97 Z\" fill=\"#000000\" fill-rule=\"evenodd\" fill-opacity=\"1\" /><path clip-path=\"url(#clip580)\" d=\"M2374.33 1517.37 Q2370.72 1517.37 2368.89 1520.93 Q2367.08 1524.47 2367.08 1531.6 Q2367.08 1538.71 2368.89 1542.27 Q2370.72 1545.82 2374.33 1545.82 Q2377.96 1545.82 2379.77 1542.27 Q2381.6 1538.71 2381.6 1531.6 Q2381.6 1524.47 2379.77 1520.93 Q2377.96 1517.37 2374.33 1517.37 M2374.33 1513.66 Q2380.14 1513.66 2383.2 1518.27 Q2386.27 1522.85 2386.27 1531.6 Q2386.27 1540.33 2383.2 1544.94 Q2380.14 1549.52 2374.33 1549.52 Q2368.52 1549.52 2365.44 1544.94 Q2362.39 1540.33 2362.39 1531.6 Q2362.39 1522.85 2365.44 1518.27 Q2368.52 1513.66 2374.33 1513.66 Z\" fill=\"#000000\" fill-rule=\"evenodd\" fill-opacity=\"1\" /><polyline clip-path=\"url(#clip582)\" style=\"stroke:#000000; stroke-linecap:round; stroke-linejoin:round; stroke-width:2; stroke-opacity:0.1; fill:none\" points=\"\n",
       "  193.936,1445.74 2352.76,1445.74 \n",
       "  \"/>\n",
       "<polyline clip-path=\"url(#clip582)\" style=\"stroke:#000000; stroke-linecap:round; stroke-linejoin:round; stroke-width:2; stroke-opacity:0.1; fill:none\" points=\"\n",
       "  193.936,1106.3 2352.76,1106.3 \n",
       "  \"/>\n",
       "<polyline clip-path=\"url(#clip582)\" style=\"stroke:#000000; stroke-linecap:round; stroke-linejoin:round; stroke-width:2; stroke-opacity:0.1; fill:none\" points=\"\n",
       "  193.936,766.86 2352.76,766.86 \n",
       "  \"/>\n",
       "<polyline clip-path=\"url(#clip582)\" style=\"stroke:#000000; stroke-linecap:round; stroke-linejoin:round; stroke-width:2; stroke-opacity:0.1; fill:none\" points=\"\n",
       "  193.936,427.418 2352.76,427.418 \n",
       "  \"/>\n",
       "<polyline clip-path=\"url(#clip582)\" style=\"stroke:#000000; stroke-linecap:round; stroke-linejoin:round; stroke-width:2; stroke-opacity:0.1; fill:none\" points=\"\n",
       "  193.936,87.9763 2352.76,87.9763 \n",
       "  \"/>\n",
       "<polyline clip-path=\"url(#clip580)\" style=\"stroke:#000000; stroke-linecap:round; stroke-linejoin:round; stroke-width:4; stroke-opacity:1; fill:none\" points=\"\n",
       "  193.936,1486.45 193.936,47.2441 \n",
       "  \"/>\n",
       "<polyline clip-path=\"url(#clip580)\" style=\"stroke:#000000; stroke-linecap:round; stroke-linejoin:round; stroke-width:4; stroke-opacity:1; fill:none\" points=\"\n",
       "  193.936,1445.74 212.834,1445.74 \n",
       "  \"/>\n",
       "<polyline clip-path=\"url(#clip580)\" style=\"stroke:#000000; stroke-linecap:round; stroke-linejoin:round; stroke-width:4; stroke-opacity:1; fill:none\" points=\"\n",
       "  193.936,1106.3 212.834,1106.3 \n",
       "  \"/>\n",
       "<polyline clip-path=\"url(#clip580)\" style=\"stroke:#000000; stroke-linecap:round; stroke-linejoin:round; stroke-width:4; stroke-opacity:1; fill:none\" points=\"\n",
       "  193.936,766.86 212.834,766.86 \n",
       "  \"/>\n",
       "<polyline clip-path=\"url(#clip580)\" style=\"stroke:#000000; stroke-linecap:round; stroke-linejoin:round; stroke-width:4; stroke-opacity:1; fill:none\" points=\"\n",
       "  193.936,427.418 212.834,427.418 \n",
       "  \"/>\n",
       "<polyline clip-path=\"url(#clip580)\" style=\"stroke:#000000; stroke-linecap:round; stroke-linejoin:round; stroke-width:4; stroke-opacity:1; fill:none\" points=\"\n",
       "  193.936,87.9763 212.834,87.9763 \n",
       "  \"/>\n",
       "<path clip-path=\"url(#clip580)\" d=\"M50.9921 1446.2 L80.6679 1446.2 L80.6679 1450.13 L50.9921 1450.13 L50.9921 1446.2 Z\" fill=\"#000000\" fill-rule=\"evenodd\" fill-opacity=\"1\" /><path clip-path=\"url(#clip580)\" d=\"M91.5706 1459.09 L99.2095 1459.09 L99.2095 1432.72 L90.8993 1434.39 L90.8993 1430.13 L99.1632 1428.46 L103.839 1428.46 L103.839 1459.09 L111.478 1459.09 L111.478 1463.02 L91.5706 1463.02 L91.5706 1459.09 Z\" fill=\"#000000\" fill-rule=\"evenodd\" fill-opacity=\"1\" /><path clip-path=\"url(#clip580)\" d=\"M120.922 1457.14 L125.807 1457.14 L125.807 1463.02 L120.922 1463.02 L120.922 1457.14 Z\" fill=\"#000000\" fill-rule=\"evenodd\" fill-opacity=\"1\" /><path clip-path=\"url(#clip580)\" d=\"M145.992 1431.54 Q142.381 1431.54 140.552 1435.11 Q138.746 1438.65 138.746 1445.78 Q138.746 1452.88 140.552 1456.45 Q142.381 1459.99 145.992 1459.99 Q149.626 1459.99 151.431 1456.45 Q153.26 1452.88 153.26 1445.78 Q153.26 1438.65 151.431 1435.11 Q149.626 1431.54 145.992 1431.54 M145.992 1427.84 Q151.802 1427.84 154.857 1432.45 Q157.936 1437.03 157.936 1445.78 Q157.936 1454.51 154.857 1459.11 Q151.802 1463.7 145.992 1463.7 Q140.181 1463.7 137.103 1459.11 Q134.047 1454.51 134.047 1445.78 Q134.047 1437.03 137.103 1432.45 Q140.181 1427.84 145.992 1427.84 Z\" fill=\"#000000\" fill-rule=\"evenodd\" fill-opacity=\"1\" /><path clip-path=\"url(#clip580)\" d=\"M51.9875 1106.75 L81.6633 1106.75 L81.6633 1110.69 L51.9875 1110.69 L51.9875 1106.75 Z\" fill=\"#000000\" fill-rule=\"evenodd\" fill-opacity=\"1\" /><path clip-path=\"url(#clip580)\" d=\"M101.756 1092.1 Q98.1447 1092.1 96.316 1095.67 Q94.5104 1099.21 94.5104 1106.34 Q94.5104 1113.44 96.316 1117.01 Q98.1447 1120.55 101.756 1120.55 Q105.39 1120.55 107.196 1117.01 Q109.024 1113.44 109.024 1106.34 Q109.024 1099.21 107.196 1095.67 Q105.39 1092.1 101.756 1092.1 M101.756 1088.4 Q107.566 1088.4 110.621 1093 Q113.7 1097.59 113.7 1106.34 Q113.7 1115.06 110.621 1119.67 Q107.566 1124.25 101.756 1124.25 Q95.9456 1124.25 92.8669 1119.67 Q89.8114 1115.06 89.8114 1106.34 Q89.8114 1097.59 92.8669 1093 Q95.9456 1088.4 101.756 1088.4 Z\" fill=\"#000000\" fill-rule=\"evenodd\" fill-opacity=\"1\" /><path clip-path=\"url(#clip580)\" d=\"M121.918 1117.7 L126.802 1117.7 L126.802 1123.58 L121.918 1123.58 L121.918 1117.7 Z\" fill=\"#000000\" fill-rule=\"evenodd\" fill-opacity=\"1\" /><path clip-path=\"url(#clip580)\" d=\"M137.033 1089.02 L155.39 1089.02 L155.39 1092.96 L141.316 1092.96 L141.316 1101.43 Q142.334 1101.08 143.353 1100.92 Q144.371 1100.73 145.39 1100.73 Q151.177 1100.73 154.556 1103.91 Q157.936 1107.08 157.936 1112.49 Q157.936 1118.07 154.464 1121.17 Q150.992 1124.25 144.672 1124.25 Q142.496 1124.25 140.228 1123.88 Q137.982 1123.51 135.575 1122.77 L135.575 1118.07 Q137.658 1119.21 139.881 1119.76 Q142.103 1120.32 144.58 1120.32 Q148.584 1120.32 150.922 1118.21 Q153.26 1116.11 153.26 1112.49 Q153.26 1108.88 150.922 1106.78 Q148.584 1104.67 144.58 1104.67 Q142.705 1104.67 140.83 1105.09 Q138.978 1105.5 137.033 1106.38 L137.033 1089.02 Z\" fill=\"#000000\" fill-rule=\"evenodd\" fill-opacity=\"1\" /><path clip-path=\"url(#clip580)\" d=\"M100.76 752.659 Q97.1493 752.659 95.3206 756.224 Q93.515 759.765 93.515 766.895 Q93.515 774.001 95.3206 777.566 Q97.1493 781.108 100.76 781.108 Q104.395 781.108 106.2 777.566 Q108.029 774.001 108.029 766.895 Q108.029 759.765 106.2 756.224 Q104.395 752.659 100.76 752.659 M100.76 748.955 Q106.571 748.955 109.626 753.561 Q112.705 758.145 112.705 766.895 Q112.705 775.622 109.626 780.228 Q106.571 784.811 100.76 784.811 Q94.9502 784.811 91.8715 780.228 Q88.816 775.622 88.816 766.895 Q88.816 758.145 91.8715 753.561 Q94.9502 748.955 100.76 748.955 Z\" fill=\"#000000\" fill-rule=\"evenodd\" fill-opacity=\"1\" /><path clip-path=\"url(#clip580)\" d=\"M120.922 778.26 L125.807 778.26 L125.807 784.14 L120.922 784.14 L120.922 778.26 Z\" fill=\"#000000\" fill-rule=\"evenodd\" fill-opacity=\"1\" /><path clip-path=\"url(#clip580)\" d=\"M145.992 752.659 Q142.381 752.659 140.552 756.224 Q138.746 759.765 138.746 766.895 Q138.746 774.001 140.552 777.566 Q142.381 781.108 145.992 781.108 Q149.626 781.108 151.431 777.566 Q153.26 774.001 153.26 766.895 Q153.26 759.765 151.431 756.224 Q149.626 752.659 145.992 752.659 M145.992 748.955 Q151.802 748.955 154.857 753.561 Q157.936 758.145 157.936 766.895 Q157.936 775.622 154.857 780.228 Q151.802 784.811 145.992 784.811 Q140.181 784.811 137.103 780.228 Q134.047 775.622 134.047 766.895 Q134.047 758.145 137.103 753.561 Q140.181 748.955 145.992 748.955 Z\" fill=\"#000000\" fill-rule=\"evenodd\" fill-opacity=\"1\" /><path clip-path=\"url(#clip580)\" d=\"M101.756 413.217 Q98.1447 413.217 96.316 416.782 Q94.5104 420.323 94.5104 427.453 Q94.5104 434.559 96.316 438.124 Q98.1447 441.666 101.756 441.666 Q105.39 441.666 107.196 438.124 Q109.024 434.559 109.024 427.453 Q109.024 420.323 107.196 416.782 Q105.39 413.217 101.756 413.217 M101.756 409.513 Q107.566 409.513 110.621 414.12 Q113.7 418.703 113.7 427.453 Q113.7 436.18 110.621 440.786 Q107.566 445.369 101.756 445.369 Q95.9456 445.369 92.8669 440.786 Q89.8114 436.18 89.8114 427.453 Q89.8114 418.703 92.8669 414.12 Q95.9456 409.513 101.756 409.513 Z\" fill=\"#000000\" fill-rule=\"evenodd\" fill-opacity=\"1\" /><path clip-path=\"url(#clip580)\" d=\"M121.918 438.819 L126.802 438.819 L126.802 444.698 L121.918 444.698 L121.918 438.819 Z\" fill=\"#000000\" fill-rule=\"evenodd\" fill-opacity=\"1\" /><path clip-path=\"url(#clip580)\" d=\"M137.033 410.138 L155.39 410.138 L155.39 414.073 L141.316 414.073 L141.316 422.545 Q142.334 422.198 143.353 422.036 Q144.371 421.851 145.39 421.851 Q151.177 421.851 154.556 425.022 Q157.936 428.194 157.936 433.61 Q157.936 439.189 154.464 442.291 Q150.992 445.369 144.672 445.369 Q142.496 445.369 140.228 444.999 Q137.982 444.629 135.575 443.888 L135.575 439.189 Q137.658 440.323 139.881 440.879 Q142.103 441.434 144.58 441.434 Q148.584 441.434 150.922 439.328 Q153.26 437.221 153.26 433.61 Q153.26 429.999 150.922 427.893 Q148.584 425.786 144.58 425.786 Q142.705 425.786 140.83 426.203 Q138.978 426.62 137.033 427.499 L137.033 410.138 Z\" fill=\"#000000\" fill-rule=\"evenodd\" fill-opacity=\"1\" /><path clip-path=\"url(#clip580)\" d=\"M91.5706 101.321 L99.2095 101.321 L99.2095 74.9555 L90.8993 76.6222 L90.8993 72.3629 L99.1632 70.6963 L103.839 70.6963 L103.839 101.321 L111.478 101.321 L111.478 105.256 L91.5706 105.256 L91.5706 101.321 Z\" fill=\"#000000\" fill-rule=\"evenodd\" fill-opacity=\"1\" /><path clip-path=\"url(#clip580)\" d=\"M120.922 99.3767 L125.807 99.3767 L125.807 105.256 L120.922 105.256 L120.922 99.3767 Z\" fill=\"#000000\" fill-rule=\"evenodd\" fill-opacity=\"1\" /><path clip-path=\"url(#clip580)\" d=\"M145.992 73.775 Q142.381 73.775 140.552 77.3398 Q138.746 80.8814 138.746 88.011 Q138.746 95.1174 140.552 98.6822 Q142.381 102.224 145.992 102.224 Q149.626 102.224 151.431 98.6822 Q153.26 95.1174 153.26 88.011 Q153.26 80.8814 151.431 77.3398 Q149.626 73.775 145.992 73.775 M145.992 70.0713 Q151.802 70.0713 154.857 74.6777 Q157.936 79.261 157.936 88.011 Q157.936 96.7378 154.857 101.344 Q151.802 105.928 145.992 105.928 Q140.181 105.928 137.103 101.344 Q134.047 96.7378 134.047 88.011 Q134.047 79.261 137.103 74.6777 Q140.181 70.0713 145.992 70.0713 Z\" fill=\"#000000\" fill-rule=\"evenodd\" fill-opacity=\"1\" /><polyline clip-path=\"url(#clip582)\" style=\"stroke:#009af9; stroke-linecap:round; stroke-linejoin:round; stroke-width:4; stroke-opacity:1; fill:none\" points=\"\n",
       "  193.936,87.9763 197.45,96.8017 200.964,105.598 204.477,114.366 207.991,123.105 240.481,202.548 272.971,279.53 305.461,354.052 337.951,426.113 377.001,509.47 \n",
       "  416.051,589.272 449.068,653.971 482.084,716.13 517.949,780.772 553.814,842.417 586.879,896.592 619.943,948.219 655.392,1000.74 690.84,1050.33 711.375,1077.72 \n",
       "  731.911,1104.12 752.446,1129.54 772.981,1153.98 809.48,1195 845.979,1232.9 877.985,1263.59 909.991,1291.89 944.886,1320.02 979.782,1345.31 1014.88,1367.9 \n",
       "  1049.99,1387.61 1088.8,1406.05 1127.61,1420.99 1164.54,1431.95 1201.46,1439.72 1239.86,1444.44 1278.25,1445.72 1310.57,1444.13 1342.9,1440.11 1362.63,1436.45 \n",
       "  1382.36,1431.9 1402.09,1426.43 1421.82,1420.06 1457.96,1406.02 1494.11,1388.95 1527.5,1370.47 1560.88,1349.4 1594.7,1325.4 1628.52,1298.74 1666.42,1265.69 \n",
       "  1704.32,1229.29 1738.67,1193.42 1773.01,1154.8 1792.67,1131.45 1812.33,1107.2 1831.99,1082.05 1851.66,1056 1888.06,1005.39 1924.47,951.678 1960.37,895.704 \n",
       "  1996.26,836.726 2031.11,776.591 2065.96,713.625 2101.69,646.139 2137.42,575.677 2156.99,535.817 2176.56,495.063 2196.13,453.417 2215.7,410.878 2244.13,347.494 \n",
       "  2272.56,282.225 2300.99,215.072 2329.43,146.036 2335.26,131.64 2341.09,117.165 2346.92,102.61 2352.76,87.9763 \n",
       "  \"/>\n",
       "<path clip-path=\"url(#clip580)\" d=\"\n",
       "M1857.11 198.898 L2280.8 198.898 L2280.8 95.2176 L1857.11 95.2176  Z\n",
       "  \" fill=\"#ffffff\" fill-rule=\"evenodd\" fill-opacity=\"1\"/>\n",
       "<polyline clip-path=\"url(#clip580)\" style=\"stroke:#000000; stroke-linecap:round; stroke-linejoin:round; stroke-width:4; stroke-opacity:1; fill:none\" points=\"\n",
       "  1857.11,198.898 2280.8,198.898 2280.8,95.2176 1857.11,95.2176 1857.11,198.898 \n",
       "  \"/>\n",
       "<polyline clip-path=\"url(#clip580)\" style=\"stroke:#009af9; stroke-linecap:round; stroke-linejoin:round; stroke-width:4; stroke-opacity:1; fill:none\" points=\"\n",
       "  1881.09,147.058 2025.02,147.058 \n",
       "  \"/>\n",
       "<path clip-path=\"url(#clip580)\" d=\"M2049.67 160.402 L2057.31 160.402 L2057.31 134.037 L2049 135.703 L2049 131.444 L2057.27 129.778 L2061.94 129.778 L2061.94 160.402 L2069.58 160.402 L2069.58 164.338 L2049.67 164.338 L2049.67 160.402 Z\" fill=\"#000000\" fill-rule=\"evenodd\" fill-opacity=\"1\" /><path clip-path=\"url(#clip580)\" d=\"M2079.03 144.94 L2083.91 144.94 L2083.91 150.819 L2079.03 150.819 L2079.03 144.94 Z\" fill=\"#000000\" fill-rule=\"evenodd\" fill-opacity=\"1\" /><path clip-path=\"url(#clip580)\" d=\"M2088.89 129.778 L2118.12 129.778 L2118.12 133.713 L2105.85 133.713 L2105.85 164.338 L2101.16 164.338 L2101.16 133.713 L2088.89 133.713 L2088.89 129.778 Z\" fill=\"#000000\" fill-rule=\"evenodd\" fill-opacity=\"1\" /><path clip-path=\"url(#clip580)\" d=\"M2142.15 172.208 L2142.15 175.518 L2117.52 175.518 L2117.52 172.208 L2142.15 172.208 Z\" fill=\"#000000\" fill-rule=\"evenodd\" fill-opacity=\"1\" /><path clip-path=\"url(#clip580)\" d=\"M2150.78 160.402 L2167.1 160.402 L2167.1 164.338 L2145.16 164.338 L2145.16 160.402 Q2147.82 157.648 2152.41 153.018 Q2157.01 148.365 2158.19 147.023 Q2160.44 144.5 2161.32 142.764 Q2162.22 141.004 2162.22 139.315 Q2162.22 136.56 2160.28 134.824 Q2158.35 133.088 2155.25 133.088 Q2153.05 133.088 2150.6 133.852 Q2148.17 134.615 2145.39 136.166 L2145.39 131.444 Q2148.22 130.31 2150.67 129.731 Q2153.12 129.153 2155.16 129.153 Q2160.53 129.153 2163.72 131.838 Q2166.92 134.523 2166.92 139.014 Q2166.92 141.143 2166.11 143.065 Q2165.32 144.963 2163.22 147.555 Q2162.64 148.227 2159.53 151.444 Q2156.43 154.639 2150.78 160.402 Z\" fill=\"#000000\" fill-rule=\"evenodd\" fill-opacity=\"1\" /><path clip-path=\"url(#clip580)\" d=\"M2186.55 128.366 Q2183.45 133.69 2181.94 138.898 Q2180.44 144.106 2180.44 149.453 Q2180.44 154.801 2181.94 160.055 Q2183.47 165.287 2186.55 170.588 L2182.84 170.588 Q2179.37 165.148 2177.64 159.893 Q2175.92 154.639 2175.92 149.453 Q2175.92 144.291 2177.64 139.06 Q2179.35 133.828 2182.84 128.366 L2186.55 128.366 Z\" fill=\"#000000\" fill-rule=\"evenodd\" fill-opacity=\"1\" /><path clip-path=\"url(#clip580)\" d=\"M2216.36 138.412 L2206.99 151.027 L2216.85 164.338 L2211.83 164.338 L2204.28 154.152 L2196.73 164.338 L2191.71 164.338 L2201.78 150.773 L2192.57 138.412 L2197.59 138.412 L2204.47 147.648 L2211.34 138.412 L2216.36 138.412 Z\" fill=\"#000000\" fill-rule=\"evenodd\" fill-opacity=\"1\" /><path clip-path=\"url(#clip580)\" d=\"M2222.2 128.366 L2225.9 128.366 Q2229.37 133.828 2231.09 139.06 Q2232.82 144.291 2232.82 149.453 Q2232.82 154.639 2231.09 159.893 Q2229.37 165.148 2225.9 170.588 L2222.2 170.588 Q2225.28 165.287 2226.78 160.055 Q2228.31 154.801 2228.31 149.453 Q2228.31 144.106 2226.78 138.898 Q2225.28 133.69 2222.2 128.366 Z\" fill=\"#000000\" fill-rule=\"evenodd\" fill-opacity=\"1\" /></svg>\n"
      ]
     },
     "execution_count": 29,
     "metadata": {},
     "output_type": "execute_result"
    }
   ],
   "source": [
    "plot(t2)"
   ]
  },
  {
   "cell_type": "code",
   "execution_count": 30,
   "metadata": {},
   "outputs": [
    {
     "data": {
      "text/plain": [
       "2-element Vector{Float64}:\n",
       " -0.7071067811865475\n",
       "  0.7071067811865476"
      ]
     },
     "execution_count": 30,
     "metadata": {},
     "output_type": "execute_result"
    }
   ],
   "source": [
    "#zera wielomianu Czebyszewa T2\n",
    "Polynomials.roots(t2)"
   ]
  },
  {
   "cell_type": "code",
   "execution_count": 31,
   "metadata": {},
   "outputs": [
    {
     "data": {
      "text/html": [
       "&#45;1 &#43; 2&#8729;x<sup>2</sup>"
      ],
      "text/latex": [
       "$-1 + 2\\cdot x^{2}$"
      ],
      "text/plain": [
       "Polynomial(-1 + 2*x^2)"
      ]
     },
     "execution_count": 31,
     "metadata": {},
     "output_type": "execute_result"
    }
   ],
   "source": [
    "# konwersja na wielomian\n",
    "convert(Polynomial, t2)"
   ]
  },
  {
   "cell_type": "code",
   "execution_count": 32,
   "metadata": {},
   "outputs": [
    {
     "data": {
      "text/html": [
       "3⋅T_0(x) + 2⋅T_1(x) + 1⋅T_2(x)"
      ],
      "text/latex": [
       "$3⋅T_0(x) + 2⋅T_1(x) + 1⋅T_2(x)$"
      ],
      "text/plain": [
       "ChebyshevT(3⋅T_0(x) + 2⋅T_1(x) + 1⋅T_2(x))"
      ]
     },
     "execution_count": 32,
     "metadata": {},
     "output_type": "execute_result"
    }
   ],
   "source": [
    "# można tworzyć kombinacje liniowe w bazie wielomianów Czebyszewa\n",
    "kombinacja_T = ChebyshevT([3,2,1])"
   ]
  },
  {
   "cell_type": "code",
   "execution_count": 33,
   "metadata": {},
   "outputs": [
    {
     "data": {
      "text/html": [
       "2 &#43; 2&#8729;x &#43; 2&#8729;x<sup>2</sup>"
      ],
      "text/latex": [
       "$2 + 2\\cdot x + 2\\cdot x^{2}$"
      ],
      "text/plain": [
       "Polynomial(2 + 2*x + 2*x^2)"
      ]
     },
     "execution_count": 33,
     "metadata": {},
     "output_type": "execute_result"
    }
   ],
   "source": [
    "convert(Polynomial, kombinacja_T)"
   ]
  },
  {
   "cell_type": "markdown",
   "metadata": {},
   "source": [
    "Skąd się wzieło polynomials logo :-)\n",
    "https://juliamath.github.io/Polynomials.jl/stable/reference/#Example:-The-Polynomials.jl-logo-1"
   ]
  },
  {
   "cell_type": "markdown",
   "metadata": {},
   "source": [
    "## Aproksymacja jednostajna Taylora i Pade"
   ]
  },
  {
   "cell_type": "code",
   "execution_count": 34,
   "metadata": {},
   "outputs": [],
   "source": [
    "#using Pkg;\n",
    "#Pkg.add(\"TaylorSeries\")"
   ]
  },
  {
   "cell_type": "code",
   "execution_count": 35,
   "metadata": {},
   "outputs": [],
   "source": [
    "using TaylorSeries"
   ]
  },
  {
   "cell_type": "code",
   "execution_count": 36,
   "metadata": {},
   "outputs": [
    {
     "data": {
      "text/plain": [
       " 1.0 t + 𝒪(t⁶)"
      ]
     },
     "execution_count": 36,
     "metadata": {},
     "output_type": "execute_result"
    }
   ],
   "source": [
    "# Definiujemy, ile pierwszych wyrazów szeregu Taylora nas interesuje\n",
    "t = Taylor1(Float64, 5)"
   ]
  },
  {
   "cell_type": "code",
   "execution_count": 37,
   "metadata": {},
   "outputs": [
    {
     "data": {
      "text/plain": [
       " 1.0 + 1.0 t + 0.5 t² + 0.16666666666666666 t³ + 0.041666666666666664 t⁴ + 0.008333333333333333 t⁵ + 𝒪(t⁶)"
      ]
     },
     "execution_count": 37,
     "metadata": {},
     "output_type": "execute_result"
    }
   ],
   "source": [
    "#Rozwinięcie Taylora \n",
    "myfun_taylor = myfun(t)"
   ]
  },
  {
   "cell_type": "code",
   "execution_count": 38,
   "metadata": {},
   "outputs": [
    {
     "data": {
      "text/plain": [
       "(:coeffs, :order)"
      ]
     },
     "execution_count": 38,
     "metadata": {},
     "output_type": "execute_result"
    }
   ],
   "source": [
    "# Julia hint - jak zapytać o pola typu danych\n",
    "fieldnames(typeof(myfun_taylor))"
   ]
  },
  {
   "cell_type": "code",
   "execution_count": 39,
   "metadata": {},
   "outputs": [
    {
     "data": {
      "text/plain": [
       "6-element Vector{Float64}:\n",
       " 1.0\n",
       " 1.0\n",
       " 0.5\n",
       " 0.16666666666666666\n",
       " 0.041666666666666664\n",
       " 0.008333333333333333"
      ]
     },
     "execution_count": 39,
     "metadata": {},
     "output_type": "execute_result"
    }
   ],
   "source": [
    "# mogę wyciągnąć ze struktury typu  odpowiednie pole\n",
    "myfun_taylor.coeffs"
   ]
  },
  {
   "cell_type": "code",
   "execution_count": 40,
   "metadata": {},
   "outputs": [
    {
     "data": {
      "text/html": [
       "1.0 &#43; 1.0&#8729;x &#43; 0.5&#8729;x<sup>2</sup> &#43; 0.16666666666666666&#8729;x<sup>3</sup> &#43; 0.041666666666666664&#8729;x<sup>4</sup> &#43; 0.008333333333333333&#8729;x<sup>5</sup>"
      ],
      "text/latex": [
       "$1.0 + 1.0\\cdot x + 0.5\\cdot x^{2} + 0.16666666666666666\\cdot x^{3} + 0.041666666666666664\\cdot x^{4} + 0.008333333333333333\\cdot x^{5}$"
      ],
      "text/plain": [
       "Polynomial(1.0 + 1.0*x + 0.5*x^2 + 0.16666666666666666*x^3 + 0.041666666666666664*x^4 + 0.008333333333333333*x^5)"
      ]
     },
     "execution_count": 40,
     "metadata": {},
     "output_type": "execute_result"
    }
   ],
   "source": [
    "# Z przybliżenia Taylora tworzę wielomian zrozumiały dla pakietu Polynomials (typ Polynomial)\n",
    "myfun_t_pol = Polynomial(myfun_taylor.coeffs)"
   ]
  },
  {
   "cell_type": "code",
   "execution_count": 41,
   "metadata": {},
   "outputs": [
    {
     "data": {
      "text/plain": [
       "Polynomials.PolyCompat.PadeApproximation.Pade{Float64, Float64}(Polynomial(1.0 + 0.5000000000000001*x + 0.08333333333333333*x^2), Polynomial(1.0 - 0.5*x + 0.08333333333333333*x^2), :x)"
      ]
     },
     "execution_count": 41,
     "metadata": {},
     "output_type": "execute_result"
    }
   ],
   "source": [
    "# mogę zamienić przybliżenie Taylora na aproksymację Pade (np. dla n=2, m=2)\n",
    "myfun_pade = Polynomials.PolyCompat.PadeApproximation.Pade(myfun_t_pol, 2, 2)"
   ]
  },
  {
   "cell_type": "markdown",
   "metadata": {},
   "source": [
    "### Zadania\n",
    " \n",
    "1. **(1pkt)** Uruchomić \n",
    "   - `naive_multiplication(A,B)`, \n",
    "   - `better_multiplication(A,B)` \n",
    "   - mnożenie BLAS w Julii (`A*B`) \n",
    "\n",
    "    dla coraz większych macierzy kwadratowych i zmierzyć czasy. Narysować wykres zależności czasu od rozmiaru macierzy wraz z słupkami błędów. Wszystkie trzy metody powinny być na jednym wykresie. Do analizy danych można użyć wybranego narzędzia (Julia, R)\n",
    " \n",
    " \n",
    "2. **(2 pkt)** Napisać w języku C:\n",
    "   - naiwną metodę mnożenia macierzy kwadratowych (wersja 1) \n",
    "   - ulepszoną wersję za pomocą zamiany pętli metodę mnożenia macierzy (wersja 2), pamiętając, że w C macierz przechowywana jest wierszami (row major order tzn A11,A12, ..., A1m, A21, A22,...,A2m, ..Anm), inaczej niż w Julii ! \n",
    "   - skorzystać z  możliwości BLAS poziom 3 dostępnego w GSL  (przykład uzycia https://www.gnu.org/software/gsl/doc/html/blas.html#examples )\n",
    "    \n",
    "    Należy porównywać działanie tych trzech algorytmow bez włączonej opcji optymalizacji kompilatora. Przedstawić wyniki na jednym wykresie tak jak w p.1. (osobno niż p.1). \n",
    "    \n",
    "    Do analizy danych można użyć wybranego narzędzia (Julia, R)\n",
    "    \n",
    "    *(Dla chętnych)* sprawdzić, co się dzieje, jak włączymy optymalizację kompilatora i dodać do wykresu. \n",
    "\n",
    "\n",
    "3. **(1 pkt)** Użyć aproksymacji odpowiednimi wielomianami, które najlepiej pasują do zależności czasowych każdego z algorytmów. Stopień wielomianu powinien zgadzać się z teoretyczną złożonoscią. Dodać wykresy uzyskanych wielomianów do wcześniejszych wykresów. Do analizy danych można użyć wybranego narzędzia (Julia, R)\n",
    "\n",
    "4. **(1 pkt)** Pokazać zniwelowanie efektu Rungego  poprzez użycie wsparcia dla wielomianów Czebyszewa w pakiecie Polynomials. Wymagany wykres. \n",
    "\n",
    "5. **(1 pkt)** Przybliżenie Pade jest często lepsze niż rozwinięcie w szereg Taylora przy aproksymowaniu funkcji, które posiadają osobliwości. Korzystając ze wsparcia dla aproksymacji Pade w pakiecie Polynomials pokazać dowolny przykład (wraz z wykresem), gdzie takie przybliżenie faktycznie jest lepsze. Można odtworzyć wykres z wykładu albo zainspirować się przykładowym artykułem https://www.hindawi.com/journals/ijcm/2014/587430/ \n"
   ]
  },
  {
   "cell_type": "code",
   "execution_count": null,
   "metadata": {},
   "outputs": [],
   "source": []
  }
 ],
 "metadata": {
  "kernelspec": {
   "display_name": "Julia 1.8.5",
   "language": "julia",
   "name": "julia-1.8"
  },
  "language_info": {
   "file_extension": ".jl",
   "mimetype": "application/julia",
   "name": "julia",
   "version": "1.8.5"
  }
 },
 "nbformat": 4,
 "nbformat_minor": 4
}
